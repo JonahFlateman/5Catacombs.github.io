{
  "nbformat": 4,
  "nbformat_minor": 0,
  "metadata": {
    "kernelspec": {
      "display_name": "Python 3",
      "language": "python",
      "name": "python3"
    },
    "language_info": {
      "codemirror_mode": {
        "name": "ipython",
        "version": 3
      },
      "file_extension": ".py",
      "mimetype": "text/x-python",
      "name": "python",
      "nbconvert_exporter": "python",
      "pygments_lexer": "ipython3",
      "version": "3.7.3"
    },
    "colab": {
      "name": "index (1).ipynb",
      "provenance": [],
      "include_colab_link": true
    }
  },
  "cells": [
    {
      "cell_type": "markdown",
      "metadata": {
        "id": "view-in-github",
        "colab_type": "text"
      },
      "source": [
        "<a href=\"https://colab.research.google.com/github/JonahFlateman/5Catacombs.github.io/blob/master/resilientdistributeddatasets.ipynb\" target=\"_parent\"><img src=\"https://colab.research.google.com/assets/colab-badge.svg\" alt=\"Open In Colab\"/></a>"
      ]
    },
    {
      "cell_type": "markdown",
      "metadata": {
        "id": "4bpUsRs5oZhE"
      },
      "source": [
        "## Resilient Distributed Datasets (RDDs) - Lab\n",
        "\n",
        "Resilient Distributed Datasets (RDD) are fundamental data structures of Spark. An RDD is essentially the Spark representation of a set of data, spread across multiple machines, with APIs to let you act on it. An RDD can come from any data source, e.g. text files, a database, a JSON file, etc.\n",
        "\n",
        "\n",
        "## Objectives\n",
        "\n",
        "You will be able to:\n",
        "\n",
        "- Apply the map(func) transformation to a given function on all elements of an RDD in different partitions \n",
        "- Apply a map transformation for all elements of an RDD \n",
        "- Compare the difference between a transformation and an action within RDDs \n",
        "- Use collect(), count(), and take() actions to trigger spark transformations  \n",
        "- Use filter to select data that meets certain specifications within an RDD \n",
        "- Set number of partitions for parallelizing RDDs \n",
        "- Create RDDs from Python collections \n"
      ]
    },
    {
      "cell_type": "markdown",
      "metadata": {
        "id": "L2rBicr1oZhF"
      },
      "source": [
        "## What are RDDs? \n",
        "\n",
        "To get a better understanding of RDDs, let's break down each one of the components of the acronym RDD:\n",
        "\n",
        "Resilient: RDDs are considered \"resilient\" because they have built-in fault tolerance. This means that even if one of the nodes goes offline, RDDs will be able to restore the data. This is already a huge advantage compared to standard storage. If a standard computer dies while performing an operation, all of its memory will be lost in the process. With RDDs, multiple nodes can go offline, and the action will still be held in working memory.\n",
        "\n",
        "Distributed: The data is contained on multiple nodes of a cluster-computing operation. It is efficiently partitioned to allow for parallelism.\n",
        "\n",
        "Dataset: The dataset has been * partitioned * across the multiple nodes. \n",
        "\n",
        "RDDs are the building block upon which more high-level Spark operations are based upon. Chances are, if you are performing an action using Spark, the operation involves RDDs. \n",
        "\n",
        "\n",
        "\n",
        "Key Characteristics of RDDs:\n",
        "\n",
        "- Immutable: Once an RDD is created, it cannot be modified. \n",
        "- Lazily Evaluated: RDDs will not be evaluated until an action is triggered. Essentially, when RDDs are created, they are programmed to perform some action, but that function will not get activated until it is explicitly called. The reason for lazy evaluation is that allows users to organize the actions of their Spark program into smaller actions. It also saves unnecessary computation and memory load.\n",
        "- In-Memory: The operations in Spark are performed in-memory rather than in the database. This is what allows Spark to perform fast operations with very large quantities of data.\n",
        "\n",
        "\n"
      ]
    },
    {
      "cell_type": "markdown",
      "metadata": {
        "id": "GuKoP1_QoZhG"
      },
      "source": [
        "### RDD Transformations vs Actions\n",
        "\n",
        "In Spark, we first create a __base RDD__ and then apply one or more transformations to that base RDD following our processing needs. Being immutable means, **once an RDD is created, it cannot be changed**. As a result, **each transformation of an RDD creates a new RDD**. Finally, we can apply one or more **actions** to the RDDs. Spark uses lazy evaluation, so transformations are not actually executed until an action occurs.\n",
        "\n",
        "\n",
        "<img src=\"./images/rdd_diagram.png\" width=500>"
      ]
    },
    {
      "cell_type": "markdown",
      "metadata": {
        "id": "nyzqFE3toZhH"
      },
      "source": [
        "### Transformations\n",
        "\n",
        "Transformations create a new dataset from an existing one by passing each dataset element through a function and returning a new RDD representing the results. In short, creating an RDD from an existing RDD is ‘transformation’.\n",
        "All transformations in Spark are lazy. They do not compute their results right away. Instead, they just remember the transformations applied to some base dataset (e.g. a file). The transformations are only computed when an action requires a result that needs to be returned to the driver program.\n",
        "A transformation is an RDD that returns another RDD, like map, flatMap, filter, reduceByKey, join, cogroup, etc.\n",
        "\n",
        "### Actions\n",
        "Actions return final results of RDD computations. Actions trigger execution using lineage graph to load the data into original RDD and carry out all intermediate transformations and return the final results to the driver program or writes it out to the file system. An action returns a value (to a Spark driver - the user program).\n",
        "\n",
        "Here are some key transformations and actions that we will explore.\n",
        "\n",
        "\n",
        "| Transformations   | Actions       |\n",
        "|-------------------|---------------|\n",
        "| map(func)         | reduce(func)  |\n",
        "| filter(func)      | collect()     |\n",
        "| groupByKey()      | count()       |\n",
        "| reduceByKey(func) | first()       |\n",
        "| mapValues(func)   | take()        |\n",
        "| sample()          | countByKey()  |\n",
        "| distinct()        | foreach(func) |\n",
        "| sortByKey()       |               |\n"
      ]
    },
    {
      "cell_type": "markdown",
      "metadata": {
        "id": "khWZ0G_9oZhI"
      },
      "source": [
        "Let's see how transformations and actions work through a simple example. In this example, we will perform several actions and transformations on RDDs in order to obtain a better understanding of Spark processing. \n",
        "\n",
        "### Create a Python collection \n",
        "\n",
        "We need some data to start experimenting with RDDs. Let's create some sample data and see how RDDs handle it. To practice working with RDDs, we're going to use a simple Python list.\n",
        "\n",
        "- Create a Python list `data` of integers between 1 and 1000 using the `range()` function. \n",
        "- Sanity check: confirm the length of the list (it should be 1000)"
      ]
    },
    {
      "cell_type": "code",
      "metadata": {
        "colab": {
          "base_uri": "https://localhost:8080/"
        },
        "id": "ZcN7bPSUoZhI",
        "outputId": "b5a3d67c-dbbb-4760-db7e-86ec99388755"
      },
      "source": [
        "data = list(range(1,1001))\n",
        "len(data)\n",
        "\n",
        "# 1000"
      ],
      "execution_count": 1,
      "outputs": [
        {
          "output_type": "execute_result",
          "data": {
            "text/plain": [
              "1000"
            ]
          },
          "metadata": {
            "tags": []
          },
          "execution_count": 1
        }
      ]
    },
    {
      "cell_type": "code",
      "metadata": {
        "colab": {
          "base_uri": "https://localhost:8080/"
        },
        "id": "vkSwu2LgsnX7",
        "outputId": "4010793d-9d7d-4f97-da90-9503806ce396"
      },
      "source": [
        "!apt update"
      ],
      "execution_count": 2,
      "outputs": [
        {
          "output_type": "stream",
          "text": [
            "\u001b[33m\r0% [Working]\u001b[0m\r            \rGet:1 http://security.ubuntu.com/ubuntu bionic-security InRelease [88.7 kB]\n",
            "Get:2 https://cloud.r-project.org/bin/linux/ubuntu bionic-cran40/ InRelease [3,626 B]\n",
            "Ign:3 https://developer.download.nvidia.com/compute/cuda/repos/ubuntu1804/x86_64  InRelease\n",
            "Get:4 http://ppa.launchpad.net/c2d4u.team/c2d4u4.0+/ubuntu bionic InRelease [15.9 kB]\n",
            "Hit:5 http://archive.ubuntu.com/ubuntu bionic InRelease\n",
            "Ign:6 https://developer.download.nvidia.com/compute/machine-learning/repos/ubuntu1804/x86_64  InRelease\n",
            "Get:7 https://developer.download.nvidia.com/compute/cuda/repos/ubuntu1804/x86_64  Release [697 B]\n",
            "Hit:8 https://developer.download.nvidia.com/compute/machine-learning/repos/ubuntu1804/x86_64  Release\n",
            "Get:9 https://developer.download.nvidia.com/compute/cuda/repos/ubuntu1804/x86_64  Release.gpg [836 B]\n",
            "Get:10 http://archive.ubuntu.com/ubuntu bionic-updates InRelease [88.7 kB]\n",
            "Hit:11 http://ppa.launchpad.net/cran/libgit2/ubuntu bionic InRelease\n",
            "Get:12 http://security.ubuntu.com/ubuntu bionic-security/universe amd64 Packages [1,415 kB]\n",
            "Get:13 http://security.ubuntu.com/ubuntu bionic-security/main amd64 Packages [2,185 kB]\n",
            "Get:14 http://archive.ubuntu.com/ubuntu bionic-backports InRelease [74.6 kB]\n",
            "Get:15 http://ppa.launchpad.net/deadsnakes/ppa/ubuntu bionic InRelease [15.9 kB]\n",
            "Get:16 http://security.ubuntu.com/ubuntu bionic-security/restricted amd64 Packages [450 kB]\n",
            "Get:17 https://cloud.r-project.org/bin/linux/ubuntu bionic-cran40/ Packages [61.8 kB]\n",
            "Get:18 http://ppa.launchpad.net/graphics-drivers/ppa/ubuntu bionic InRelease [21.3 kB]\n",
            "Get:19 http://ppa.launchpad.net/c2d4u.team/c2d4u4.0+/ubuntu bionic/main Sources [1,771 kB]\n",
            "Ign:21 https://developer.download.nvidia.com/compute/cuda/repos/ubuntu1804/x86_64  Packages\n",
            "Get:21 https://developer.download.nvidia.com/compute/cuda/repos/ubuntu1804/x86_64  Packages [800 kB]\n",
            "Get:22 http://ppa.launchpad.net/c2d4u.team/c2d4u4.0+/ubuntu bionic/main amd64 Packages [906 kB]\n",
            "Get:23 http://archive.ubuntu.com/ubuntu bionic-updates/main amd64 Packages [2,619 kB]\n",
            "Get:24 http://archive.ubuntu.com/ubuntu bionic-updates/multiverse amd64 Packages [33.5 kB]\n",
            "Get:25 http://archive.ubuntu.com/ubuntu bionic-updates/universe amd64 Packages [2,185 kB]\n",
            "Get:26 http://archive.ubuntu.com/ubuntu bionic-updates/restricted amd64 Packages [481 kB]\n",
            "Get:27 http://ppa.launchpad.net/deadsnakes/ppa/ubuntu bionic/main amd64 Packages [40.9 kB]\n",
            "Get:28 http://ppa.launchpad.net/graphics-drivers/ppa/ubuntu bionic/main amd64 Packages [41.6 kB]\n",
            "Fetched 13.3 MB in 3s (3,901 kB/s)\n",
            "Reading package lists... Done\n",
            "Building dependency tree       \n",
            "Reading state information... Done\n",
            "48 packages can be upgraded. Run 'apt list --upgradable' to see them.\n"
          ],
          "name": "stdout"
        }
      ]
    },
    {
      "cell_type": "code",
      "metadata": {
        "id": "31mlDF3jsn_A"
      },
      "source": [
        "!apt-get install openjdk-8-jdk-headless -qq > /dev/null\n",
        "!wget -q https://downloads.apache.org/spark/spark-2.4.8/spark-2.4.8-bin-hadoop2.7.tgz\n",
        "!tar xf spark-2.4.8-bin-hadoop2.7.tgz\n",
        "!pip install -q findspark"
      ],
      "execution_count": 3,
      "outputs": []
    },
    {
      "cell_type": "code",
      "metadata": {
        "id": "eUsX1bRdsoLU"
      },
      "source": [
        "\n",
        "import os\n",
        "os.environ[\"JAVA_HOME\"] = \"/usr/lib/jvm/java-1.8.0-openjdk-amd64\"\n",
        "os.environ[\"SPARK_HOME\"] = \"/content/spark-2.4.8-bin-hadoop2.7\""
      ],
      "execution_count": 4,
      "outputs": []
    },
    {
      "cell_type": "code",
      "metadata": {
        "id": "rtO1FcjdsoVp"
      },
      "source": [
        "import findspark\n",
        "findspark.init()"
      ],
      "execution_count": 5,
      "outputs": []
    },
    {
      "cell_type": "markdown",
      "metadata": {
        "id": "O8UmG7CXoZhI"
      },
      "source": [
        "### Initialize an RDD\n",
        "\n",
        "When using Spark to make computations, datasets are treated as lists of entries. Those lists are split into different partitions across different cores or different computers. Each list of data held in memory is a partition of the RDD. The reason why Spark is able to make computations far faster than other big data processing languages is that it allows all data to be stored __in-memory__, which allows for easy access to the data and, in turn, high-speed processing. Here is an example of how the alphabet might be split into different RDDs and held across a distributed collection of nodes:\n",
        "\n",
        "<img src =\"./images/partitions_1.png\" width =\"500\">  \n",
        "To initialize an RDD, first import `pyspark` and then create a SparkContext assigned to the variable `sc`. Use `'local[*]'` as the master."
      ]
    },
    {
      "cell_type": "code",
      "metadata": {
        "id": "MSMLrWYWoZhJ"
      },
      "source": [
        "import pyspark\n",
        "sc = pyspark.SparkContext('local[*]')"
      ],
      "execution_count": 6,
      "outputs": []
    },
    {
      "cell_type": "markdown",
      "metadata": {
        "id": "Ias7-r8noZhJ"
      },
      "source": [
        "Once you've created the SparkContext, you can use the `.parallelize()` method to create an RDD that will distribute the list of numbers across multiple cores. Here, create one called `rdd` with 10 partitions using `data` as the collection you are parallelizing."
      ]
    },
    {
      "cell_type": "code",
      "metadata": {
        "colab": {
          "base_uri": "https://localhost:8080/"
        },
        "id": "ICnzgXQwoZhJ",
        "outputId": "9b11957a-145a-4e93-ab26-618b24e04b7e"
      },
      "source": [
        "rdd = sc.parallelize(data, numSlices=10)\n",
        "print(type(rdd))\n",
        "# <class 'pyspark.rdd.RDD'>"
      ],
      "execution_count": 9,
      "outputs": [
        {
          "output_type": "stream",
          "text": [
            "<class 'pyspark.rdd.RDD'>\n"
          ],
          "name": "stdout"
        }
      ]
    },
    {
      "cell_type": "markdown",
      "metadata": {
        "id": "nAu_4tE_oZhK"
      },
      "source": [
        "Determine how many partitions are being used with this RDD with the `.getNumPartitions()` method."
      ]
    },
    {
      "cell_type": "code",
      "metadata": {
        "colab": {
          "base_uri": "https://localhost:8080/"
        },
        "id": "pLZmxcTgoZhK",
        "outputId": "11c5c589-fdde-4a66-bd57-cf3364a5fe9b"
      },
      "source": [
        "rdd.getNumPartitions()\n",
        "# 10"
      ],
      "execution_count": 10,
      "outputs": [
        {
          "output_type": "execute_result",
          "data": {
            "text/plain": [
              "10"
            ]
          },
          "metadata": {
            "tags": []
          },
          "execution_count": 10
        }
      ]
    },
    {
      "cell_type": "markdown",
      "metadata": {
        "id": "ETXfVcwuoZhK"
      },
      "source": [
        "### Basic descriptive RDD actions\n",
        "\n",
        "Let's perform some basic operations on our RDD. In the cell below, use the methods:\n",
        "* `count`: returns the total count of items in the RDD \n",
        "* `first`: returns the first item in the RDD\n",
        "* `take`: returns the first `n` items in the RDD\n",
        "* `top`: returns the top `n` items\n",
        "* `collect`: returns everything from your RDD\n",
        "\n",
        "\n",
        "It's important to note that in a big data context, calling the collect method will often take a very long time to execute and should be handled with care!"
      ]
    },
    {
      "cell_type": "code",
      "metadata": {
        "scrolled": true,
        "colab": {
          "base_uri": "https://localhost:8080/"
        },
        "id": "hxPbGl7goZhL",
        "outputId": "fe4e3bbe-ff80-4c29-d383-1f322bbb1696"
      },
      "source": [
        "# count\n",
        "rdd.count()"
      ],
      "execution_count": 12,
      "outputs": [
        {
          "output_type": "execute_result",
          "data": {
            "text/plain": [
              "1000"
            ]
          },
          "metadata": {
            "tags": []
          },
          "execution_count": 12
        }
      ]
    },
    {
      "cell_type": "code",
      "metadata": {
        "colab": {
          "base_uri": "https://localhost:8080/"
        },
        "id": "zp-uQYHmoZhL",
        "outputId": "eda93029-d7ef-4cea-c9ad-7f2d4e9db9b4"
      },
      "source": [
        "# first\n",
        "rdd.first()"
      ],
      "execution_count": 13,
      "outputs": [
        {
          "output_type": "execute_result",
          "data": {
            "text/plain": [
              "1"
            ]
          },
          "metadata": {
            "tags": []
          },
          "execution_count": 13
        }
      ]
    },
    {
      "cell_type": "code",
      "metadata": {
        "colab": {
          "base_uri": "https://localhost:8080/"
        },
        "id": "hBZ0vYdooZhL",
        "outputId": "475c340b-c53a-42c5-e3d8-40c0757b3d42"
      },
      "source": [
        "# take\n",
        "rdd.take(5)"
      ],
      "execution_count": 14,
      "outputs": [
        {
          "output_type": "execute_result",
          "data": {
            "text/plain": [
              "[1, 2, 3, 4, 5]"
            ]
          },
          "metadata": {
            "tags": []
          },
          "execution_count": 14
        }
      ]
    },
    {
      "cell_type": "code",
      "metadata": {
        "colab": {
          "base_uri": "https://localhost:8080/"
        },
        "id": "7ebwN48RoZhL",
        "outputId": "9f636e45-95d1-4879-b53a-85700cc3eef6"
      },
      "source": [
        "# top\n",
        "rdd.top(5)"
      ],
      "execution_count": 15,
      "outputs": [
        {
          "output_type": "execute_result",
          "data": {
            "text/plain": [
              "[1000, 999, 998, 997, 996]"
            ]
          },
          "metadata": {
            "tags": []
          },
          "execution_count": 15
        }
      ]
    },
    {
      "cell_type": "code",
      "metadata": {
        "scrolled": true,
        "colab": {
          "base_uri": "https://localhost:8080/"
        },
        "id": "WOnav-SAoZhL",
        "outputId": "c4b4cb3e-a116-43d2-d995-93a980d311d9"
      },
      "source": [
        "# collect\n",
        "rdd.collect()"
      ],
      "execution_count": 16,
      "outputs": [
        {
          "output_type": "execute_result",
          "data": {
            "text/plain": [
              "[1,\n",
              " 2,\n",
              " 3,\n",
              " 4,\n",
              " 5,\n",
              " 6,\n",
              " 7,\n",
              " 8,\n",
              " 9,\n",
              " 10,\n",
              " 11,\n",
              " 12,\n",
              " 13,\n",
              " 14,\n",
              " 15,\n",
              " 16,\n",
              " 17,\n",
              " 18,\n",
              " 19,\n",
              " 20,\n",
              " 21,\n",
              " 22,\n",
              " 23,\n",
              " 24,\n",
              " 25,\n",
              " 26,\n",
              " 27,\n",
              " 28,\n",
              " 29,\n",
              " 30,\n",
              " 31,\n",
              " 32,\n",
              " 33,\n",
              " 34,\n",
              " 35,\n",
              " 36,\n",
              " 37,\n",
              " 38,\n",
              " 39,\n",
              " 40,\n",
              " 41,\n",
              " 42,\n",
              " 43,\n",
              " 44,\n",
              " 45,\n",
              " 46,\n",
              " 47,\n",
              " 48,\n",
              " 49,\n",
              " 50,\n",
              " 51,\n",
              " 52,\n",
              " 53,\n",
              " 54,\n",
              " 55,\n",
              " 56,\n",
              " 57,\n",
              " 58,\n",
              " 59,\n",
              " 60,\n",
              " 61,\n",
              " 62,\n",
              " 63,\n",
              " 64,\n",
              " 65,\n",
              " 66,\n",
              " 67,\n",
              " 68,\n",
              " 69,\n",
              " 70,\n",
              " 71,\n",
              " 72,\n",
              " 73,\n",
              " 74,\n",
              " 75,\n",
              " 76,\n",
              " 77,\n",
              " 78,\n",
              " 79,\n",
              " 80,\n",
              " 81,\n",
              " 82,\n",
              " 83,\n",
              " 84,\n",
              " 85,\n",
              " 86,\n",
              " 87,\n",
              " 88,\n",
              " 89,\n",
              " 90,\n",
              " 91,\n",
              " 92,\n",
              " 93,\n",
              " 94,\n",
              " 95,\n",
              " 96,\n",
              " 97,\n",
              " 98,\n",
              " 99,\n",
              " 100,\n",
              " 101,\n",
              " 102,\n",
              " 103,\n",
              " 104,\n",
              " 105,\n",
              " 106,\n",
              " 107,\n",
              " 108,\n",
              " 109,\n",
              " 110,\n",
              " 111,\n",
              " 112,\n",
              " 113,\n",
              " 114,\n",
              " 115,\n",
              " 116,\n",
              " 117,\n",
              " 118,\n",
              " 119,\n",
              " 120,\n",
              " 121,\n",
              " 122,\n",
              " 123,\n",
              " 124,\n",
              " 125,\n",
              " 126,\n",
              " 127,\n",
              " 128,\n",
              " 129,\n",
              " 130,\n",
              " 131,\n",
              " 132,\n",
              " 133,\n",
              " 134,\n",
              " 135,\n",
              " 136,\n",
              " 137,\n",
              " 138,\n",
              " 139,\n",
              " 140,\n",
              " 141,\n",
              " 142,\n",
              " 143,\n",
              " 144,\n",
              " 145,\n",
              " 146,\n",
              " 147,\n",
              " 148,\n",
              " 149,\n",
              " 150,\n",
              " 151,\n",
              " 152,\n",
              " 153,\n",
              " 154,\n",
              " 155,\n",
              " 156,\n",
              " 157,\n",
              " 158,\n",
              " 159,\n",
              " 160,\n",
              " 161,\n",
              " 162,\n",
              " 163,\n",
              " 164,\n",
              " 165,\n",
              " 166,\n",
              " 167,\n",
              " 168,\n",
              " 169,\n",
              " 170,\n",
              " 171,\n",
              " 172,\n",
              " 173,\n",
              " 174,\n",
              " 175,\n",
              " 176,\n",
              " 177,\n",
              " 178,\n",
              " 179,\n",
              " 180,\n",
              " 181,\n",
              " 182,\n",
              " 183,\n",
              " 184,\n",
              " 185,\n",
              " 186,\n",
              " 187,\n",
              " 188,\n",
              " 189,\n",
              " 190,\n",
              " 191,\n",
              " 192,\n",
              " 193,\n",
              " 194,\n",
              " 195,\n",
              " 196,\n",
              " 197,\n",
              " 198,\n",
              " 199,\n",
              " 200,\n",
              " 201,\n",
              " 202,\n",
              " 203,\n",
              " 204,\n",
              " 205,\n",
              " 206,\n",
              " 207,\n",
              " 208,\n",
              " 209,\n",
              " 210,\n",
              " 211,\n",
              " 212,\n",
              " 213,\n",
              " 214,\n",
              " 215,\n",
              " 216,\n",
              " 217,\n",
              " 218,\n",
              " 219,\n",
              " 220,\n",
              " 221,\n",
              " 222,\n",
              " 223,\n",
              " 224,\n",
              " 225,\n",
              " 226,\n",
              " 227,\n",
              " 228,\n",
              " 229,\n",
              " 230,\n",
              " 231,\n",
              " 232,\n",
              " 233,\n",
              " 234,\n",
              " 235,\n",
              " 236,\n",
              " 237,\n",
              " 238,\n",
              " 239,\n",
              " 240,\n",
              " 241,\n",
              " 242,\n",
              " 243,\n",
              " 244,\n",
              " 245,\n",
              " 246,\n",
              " 247,\n",
              " 248,\n",
              " 249,\n",
              " 250,\n",
              " 251,\n",
              " 252,\n",
              " 253,\n",
              " 254,\n",
              " 255,\n",
              " 256,\n",
              " 257,\n",
              " 258,\n",
              " 259,\n",
              " 260,\n",
              " 261,\n",
              " 262,\n",
              " 263,\n",
              " 264,\n",
              " 265,\n",
              " 266,\n",
              " 267,\n",
              " 268,\n",
              " 269,\n",
              " 270,\n",
              " 271,\n",
              " 272,\n",
              " 273,\n",
              " 274,\n",
              " 275,\n",
              " 276,\n",
              " 277,\n",
              " 278,\n",
              " 279,\n",
              " 280,\n",
              " 281,\n",
              " 282,\n",
              " 283,\n",
              " 284,\n",
              " 285,\n",
              " 286,\n",
              " 287,\n",
              " 288,\n",
              " 289,\n",
              " 290,\n",
              " 291,\n",
              " 292,\n",
              " 293,\n",
              " 294,\n",
              " 295,\n",
              " 296,\n",
              " 297,\n",
              " 298,\n",
              " 299,\n",
              " 300,\n",
              " 301,\n",
              " 302,\n",
              " 303,\n",
              " 304,\n",
              " 305,\n",
              " 306,\n",
              " 307,\n",
              " 308,\n",
              " 309,\n",
              " 310,\n",
              " 311,\n",
              " 312,\n",
              " 313,\n",
              " 314,\n",
              " 315,\n",
              " 316,\n",
              " 317,\n",
              " 318,\n",
              " 319,\n",
              " 320,\n",
              " 321,\n",
              " 322,\n",
              " 323,\n",
              " 324,\n",
              " 325,\n",
              " 326,\n",
              " 327,\n",
              " 328,\n",
              " 329,\n",
              " 330,\n",
              " 331,\n",
              " 332,\n",
              " 333,\n",
              " 334,\n",
              " 335,\n",
              " 336,\n",
              " 337,\n",
              " 338,\n",
              " 339,\n",
              " 340,\n",
              " 341,\n",
              " 342,\n",
              " 343,\n",
              " 344,\n",
              " 345,\n",
              " 346,\n",
              " 347,\n",
              " 348,\n",
              " 349,\n",
              " 350,\n",
              " 351,\n",
              " 352,\n",
              " 353,\n",
              " 354,\n",
              " 355,\n",
              " 356,\n",
              " 357,\n",
              " 358,\n",
              " 359,\n",
              " 360,\n",
              " 361,\n",
              " 362,\n",
              " 363,\n",
              " 364,\n",
              " 365,\n",
              " 366,\n",
              " 367,\n",
              " 368,\n",
              " 369,\n",
              " 370,\n",
              " 371,\n",
              " 372,\n",
              " 373,\n",
              " 374,\n",
              " 375,\n",
              " 376,\n",
              " 377,\n",
              " 378,\n",
              " 379,\n",
              " 380,\n",
              " 381,\n",
              " 382,\n",
              " 383,\n",
              " 384,\n",
              " 385,\n",
              " 386,\n",
              " 387,\n",
              " 388,\n",
              " 389,\n",
              " 390,\n",
              " 391,\n",
              " 392,\n",
              " 393,\n",
              " 394,\n",
              " 395,\n",
              " 396,\n",
              " 397,\n",
              " 398,\n",
              " 399,\n",
              " 400,\n",
              " 401,\n",
              " 402,\n",
              " 403,\n",
              " 404,\n",
              " 405,\n",
              " 406,\n",
              " 407,\n",
              " 408,\n",
              " 409,\n",
              " 410,\n",
              " 411,\n",
              " 412,\n",
              " 413,\n",
              " 414,\n",
              " 415,\n",
              " 416,\n",
              " 417,\n",
              " 418,\n",
              " 419,\n",
              " 420,\n",
              " 421,\n",
              " 422,\n",
              " 423,\n",
              " 424,\n",
              " 425,\n",
              " 426,\n",
              " 427,\n",
              " 428,\n",
              " 429,\n",
              " 430,\n",
              " 431,\n",
              " 432,\n",
              " 433,\n",
              " 434,\n",
              " 435,\n",
              " 436,\n",
              " 437,\n",
              " 438,\n",
              " 439,\n",
              " 440,\n",
              " 441,\n",
              " 442,\n",
              " 443,\n",
              " 444,\n",
              " 445,\n",
              " 446,\n",
              " 447,\n",
              " 448,\n",
              " 449,\n",
              " 450,\n",
              " 451,\n",
              " 452,\n",
              " 453,\n",
              " 454,\n",
              " 455,\n",
              " 456,\n",
              " 457,\n",
              " 458,\n",
              " 459,\n",
              " 460,\n",
              " 461,\n",
              " 462,\n",
              " 463,\n",
              " 464,\n",
              " 465,\n",
              " 466,\n",
              " 467,\n",
              " 468,\n",
              " 469,\n",
              " 470,\n",
              " 471,\n",
              " 472,\n",
              " 473,\n",
              " 474,\n",
              " 475,\n",
              " 476,\n",
              " 477,\n",
              " 478,\n",
              " 479,\n",
              " 480,\n",
              " 481,\n",
              " 482,\n",
              " 483,\n",
              " 484,\n",
              " 485,\n",
              " 486,\n",
              " 487,\n",
              " 488,\n",
              " 489,\n",
              " 490,\n",
              " 491,\n",
              " 492,\n",
              " 493,\n",
              " 494,\n",
              " 495,\n",
              " 496,\n",
              " 497,\n",
              " 498,\n",
              " 499,\n",
              " 500,\n",
              " 501,\n",
              " 502,\n",
              " 503,\n",
              " 504,\n",
              " 505,\n",
              " 506,\n",
              " 507,\n",
              " 508,\n",
              " 509,\n",
              " 510,\n",
              " 511,\n",
              " 512,\n",
              " 513,\n",
              " 514,\n",
              " 515,\n",
              " 516,\n",
              " 517,\n",
              " 518,\n",
              " 519,\n",
              " 520,\n",
              " 521,\n",
              " 522,\n",
              " 523,\n",
              " 524,\n",
              " 525,\n",
              " 526,\n",
              " 527,\n",
              " 528,\n",
              " 529,\n",
              " 530,\n",
              " 531,\n",
              " 532,\n",
              " 533,\n",
              " 534,\n",
              " 535,\n",
              " 536,\n",
              " 537,\n",
              " 538,\n",
              " 539,\n",
              " 540,\n",
              " 541,\n",
              " 542,\n",
              " 543,\n",
              " 544,\n",
              " 545,\n",
              " 546,\n",
              " 547,\n",
              " 548,\n",
              " 549,\n",
              " 550,\n",
              " 551,\n",
              " 552,\n",
              " 553,\n",
              " 554,\n",
              " 555,\n",
              " 556,\n",
              " 557,\n",
              " 558,\n",
              " 559,\n",
              " 560,\n",
              " 561,\n",
              " 562,\n",
              " 563,\n",
              " 564,\n",
              " 565,\n",
              " 566,\n",
              " 567,\n",
              " 568,\n",
              " 569,\n",
              " 570,\n",
              " 571,\n",
              " 572,\n",
              " 573,\n",
              " 574,\n",
              " 575,\n",
              " 576,\n",
              " 577,\n",
              " 578,\n",
              " 579,\n",
              " 580,\n",
              " 581,\n",
              " 582,\n",
              " 583,\n",
              " 584,\n",
              " 585,\n",
              " 586,\n",
              " 587,\n",
              " 588,\n",
              " 589,\n",
              " 590,\n",
              " 591,\n",
              " 592,\n",
              " 593,\n",
              " 594,\n",
              " 595,\n",
              " 596,\n",
              " 597,\n",
              " 598,\n",
              " 599,\n",
              " 600,\n",
              " 601,\n",
              " 602,\n",
              " 603,\n",
              " 604,\n",
              " 605,\n",
              " 606,\n",
              " 607,\n",
              " 608,\n",
              " 609,\n",
              " 610,\n",
              " 611,\n",
              " 612,\n",
              " 613,\n",
              " 614,\n",
              " 615,\n",
              " 616,\n",
              " 617,\n",
              " 618,\n",
              " 619,\n",
              " 620,\n",
              " 621,\n",
              " 622,\n",
              " 623,\n",
              " 624,\n",
              " 625,\n",
              " 626,\n",
              " 627,\n",
              " 628,\n",
              " 629,\n",
              " 630,\n",
              " 631,\n",
              " 632,\n",
              " 633,\n",
              " 634,\n",
              " 635,\n",
              " 636,\n",
              " 637,\n",
              " 638,\n",
              " 639,\n",
              " 640,\n",
              " 641,\n",
              " 642,\n",
              " 643,\n",
              " 644,\n",
              " 645,\n",
              " 646,\n",
              " 647,\n",
              " 648,\n",
              " 649,\n",
              " 650,\n",
              " 651,\n",
              " 652,\n",
              " 653,\n",
              " 654,\n",
              " 655,\n",
              " 656,\n",
              " 657,\n",
              " 658,\n",
              " 659,\n",
              " 660,\n",
              " 661,\n",
              " 662,\n",
              " 663,\n",
              " 664,\n",
              " 665,\n",
              " 666,\n",
              " 667,\n",
              " 668,\n",
              " 669,\n",
              " 670,\n",
              " 671,\n",
              " 672,\n",
              " 673,\n",
              " 674,\n",
              " 675,\n",
              " 676,\n",
              " 677,\n",
              " 678,\n",
              " 679,\n",
              " 680,\n",
              " 681,\n",
              " 682,\n",
              " 683,\n",
              " 684,\n",
              " 685,\n",
              " 686,\n",
              " 687,\n",
              " 688,\n",
              " 689,\n",
              " 690,\n",
              " 691,\n",
              " 692,\n",
              " 693,\n",
              " 694,\n",
              " 695,\n",
              " 696,\n",
              " 697,\n",
              " 698,\n",
              " 699,\n",
              " 700,\n",
              " 701,\n",
              " 702,\n",
              " 703,\n",
              " 704,\n",
              " 705,\n",
              " 706,\n",
              " 707,\n",
              " 708,\n",
              " 709,\n",
              " 710,\n",
              " 711,\n",
              " 712,\n",
              " 713,\n",
              " 714,\n",
              " 715,\n",
              " 716,\n",
              " 717,\n",
              " 718,\n",
              " 719,\n",
              " 720,\n",
              " 721,\n",
              " 722,\n",
              " 723,\n",
              " 724,\n",
              " 725,\n",
              " 726,\n",
              " 727,\n",
              " 728,\n",
              " 729,\n",
              " 730,\n",
              " 731,\n",
              " 732,\n",
              " 733,\n",
              " 734,\n",
              " 735,\n",
              " 736,\n",
              " 737,\n",
              " 738,\n",
              " 739,\n",
              " 740,\n",
              " 741,\n",
              " 742,\n",
              " 743,\n",
              " 744,\n",
              " 745,\n",
              " 746,\n",
              " 747,\n",
              " 748,\n",
              " 749,\n",
              " 750,\n",
              " 751,\n",
              " 752,\n",
              " 753,\n",
              " 754,\n",
              " 755,\n",
              " 756,\n",
              " 757,\n",
              " 758,\n",
              " 759,\n",
              " 760,\n",
              " 761,\n",
              " 762,\n",
              " 763,\n",
              " 764,\n",
              " 765,\n",
              " 766,\n",
              " 767,\n",
              " 768,\n",
              " 769,\n",
              " 770,\n",
              " 771,\n",
              " 772,\n",
              " 773,\n",
              " 774,\n",
              " 775,\n",
              " 776,\n",
              " 777,\n",
              " 778,\n",
              " 779,\n",
              " 780,\n",
              " 781,\n",
              " 782,\n",
              " 783,\n",
              " 784,\n",
              " 785,\n",
              " 786,\n",
              " 787,\n",
              " 788,\n",
              " 789,\n",
              " 790,\n",
              " 791,\n",
              " 792,\n",
              " 793,\n",
              " 794,\n",
              " 795,\n",
              " 796,\n",
              " 797,\n",
              " 798,\n",
              " 799,\n",
              " 800,\n",
              " 801,\n",
              " 802,\n",
              " 803,\n",
              " 804,\n",
              " 805,\n",
              " 806,\n",
              " 807,\n",
              " 808,\n",
              " 809,\n",
              " 810,\n",
              " 811,\n",
              " 812,\n",
              " 813,\n",
              " 814,\n",
              " 815,\n",
              " 816,\n",
              " 817,\n",
              " 818,\n",
              " 819,\n",
              " 820,\n",
              " 821,\n",
              " 822,\n",
              " 823,\n",
              " 824,\n",
              " 825,\n",
              " 826,\n",
              " 827,\n",
              " 828,\n",
              " 829,\n",
              " 830,\n",
              " 831,\n",
              " 832,\n",
              " 833,\n",
              " 834,\n",
              " 835,\n",
              " 836,\n",
              " 837,\n",
              " 838,\n",
              " 839,\n",
              " 840,\n",
              " 841,\n",
              " 842,\n",
              " 843,\n",
              " 844,\n",
              " 845,\n",
              " 846,\n",
              " 847,\n",
              " 848,\n",
              " 849,\n",
              " 850,\n",
              " 851,\n",
              " 852,\n",
              " 853,\n",
              " 854,\n",
              " 855,\n",
              " 856,\n",
              " 857,\n",
              " 858,\n",
              " 859,\n",
              " 860,\n",
              " 861,\n",
              " 862,\n",
              " 863,\n",
              " 864,\n",
              " 865,\n",
              " 866,\n",
              " 867,\n",
              " 868,\n",
              " 869,\n",
              " 870,\n",
              " 871,\n",
              " 872,\n",
              " 873,\n",
              " 874,\n",
              " 875,\n",
              " 876,\n",
              " 877,\n",
              " 878,\n",
              " 879,\n",
              " 880,\n",
              " 881,\n",
              " 882,\n",
              " 883,\n",
              " 884,\n",
              " 885,\n",
              " 886,\n",
              " 887,\n",
              " 888,\n",
              " 889,\n",
              " 890,\n",
              " 891,\n",
              " 892,\n",
              " 893,\n",
              " 894,\n",
              " 895,\n",
              " 896,\n",
              " 897,\n",
              " 898,\n",
              " 899,\n",
              " 900,\n",
              " 901,\n",
              " 902,\n",
              " 903,\n",
              " 904,\n",
              " 905,\n",
              " 906,\n",
              " 907,\n",
              " 908,\n",
              " 909,\n",
              " 910,\n",
              " 911,\n",
              " 912,\n",
              " 913,\n",
              " 914,\n",
              " 915,\n",
              " 916,\n",
              " 917,\n",
              " 918,\n",
              " 919,\n",
              " 920,\n",
              " 921,\n",
              " 922,\n",
              " 923,\n",
              " 924,\n",
              " 925,\n",
              " 926,\n",
              " 927,\n",
              " 928,\n",
              " 929,\n",
              " 930,\n",
              " 931,\n",
              " 932,\n",
              " 933,\n",
              " 934,\n",
              " 935,\n",
              " 936,\n",
              " 937,\n",
              " 938,\n",
              " 939,\n",
              " 940,\n",
              " 941,\n",
              " 942,\n",
              " 943,\n",
              " 944,\n",
              " 945,\n",
              " 946,\n",
              " 947,\n",
              " 948,\n",
              " 949,\n",
              " 950,\n",
              " 951,\n",
              " 952,\n",
              " 953,\n",
              " 954,\n",
              " 955,\n",
              " 956,\n",
              " 957,\n",
              " 958,\n",
              " 959,\n",
              " 960,\n",
              " 961,\n",
              " 962,\n",
              " 963,\n",
              " 964,\n",
              " 965,\n",
              " 966,\n",
              " 967,\n",
              " 968,\n",
              " 969,\n",
              " 970,\n",
              " 971,\n",
              " 972,\n",
              " 973,\n",
              " 974,\n",
              " 975,\n",
              " 976,\n",
              " 977,\n",
              " 978,\n",
              " 979,\n",
              " 980,\n",
              " 981,\n",
              " 982,\n",
              " 983,\n",
              " 984,\n",
              " 985,\n",
              " 986,\n",
              " 987,\n",
              " 988,\n",
              " 989,\n",
              " 990,\n",
              " 991,\n",
              " 992,\n",
              " 993,\n",
              " 994,\n",
              " 995,\n",
              " 996,\n",
              " 997,\n",
              " 998,\n",
              " 999,\n",
              " 1000]"
            ]
          },
          "metadata": {
            "tags": []
          },
          "execution_count": 16
        }
      ]
    },
    {
      "cell_type": "markdown",
      "metadata": {
        "id": "cEj57zhYoZhM"
      },
      "source": [
        "## Map functions\n",
        "\n",
        "Now that you've been working a little bit with RDDs, let's make this a little more interesting. Imagine you're running a hot new e-commerce startup called BuyStuff, and you're trying to track of how much it charges customers from each item sold. In the next cell, we're going to create simulated data by multiplying the values 1-1000 with a random number from 0-1."
      ]
    },
    {
      "cell_type": "code",
      "metadata": {
        "colab": {
          "base_uri": "https://localhost:8080/"
        },
        "id": "bt1sKAnwoZhM",
        "outputId": "1b8db632-76da-4cca-bf37-364a7a98cb64"
      },
      "source": [
        "import random\n",
        "import numpy as np\n",
        "\n",
        "nums = np.array(range(1, 1001))\n",
        "sales_figures = nums * np.random.rand(1000)\n",
        "sales_figures"
      ],
      "execution_count": 17,
      "outputs": [
        {
          "output_type": "execute_result",
          "data": {
            "text/plain": [
              "array([3.54720270e-01, 7.61970665e-01, 1.56172500e+00, 2.15268260e-01,\n",
              "       3.84214789e+00, 1.60648473e+00, 6.35937083e+00, 3.39185814e+00,\n",
              "       8.09014478e+00, 7.53883663e+00, 1.19768179e+00, 3.41534338e+00,\n",
              "       2.23911871e+00, 1.23323123e+01, 1.01678192e+01, 6.57989308e+00,\n",
              "       6.31340665e+00, 6.40746694e+00, 1.48175703e+01, 1.01990466e+01,\n",
              "       6.40649918e+00, 1.64289037e+01, 3.27977942e+00, 1.44094543e+00,\n",
              "       2.14122951e+01, 1.20049160e+01, 1.22879137e+01, 3.20378995e+00,\n",
              "       2.36198518e-01, 1.99851356e+01, 5.29607952e+00, 1.07526245e+01,\n",
              "       2.17537349e+01, 1.81219950e+01, 9.45376187e+00, 2.02392349e+01,\n",
              "       2.45329343e+00, 3.11278159e+00, 2.26205580e+01, 1.44811823e+01,\n",
              "       1.36826012e+01, 1.24848066e+01, 9.95832222e+00, 2.95544766e+01,\n",
              "       2.45662718e+01, 2.98141547e+01, 2.06817334e+01, 3.65576205e+01,\n",
              "       3.13891335e+01, 3.78852257e+01, 1.15408589e+01, 3.51617369e+01,\n",
              "       2.33358133e+01, 3.00151676e+01, 5.48130396e+01, 3.82844824e+00,\n",
              "       3.45754435e+01, 5.04629462e+01, 4.66762872e+01, 2.34229529e+01,\n",
              "       1.97564651e+01, 1.89569116e+01, 3.63814071e+01, 5.66665050e+01,\n",
              "       2.51203641e+01, 5.65392414e+01, 5.35545340e+01, 5.87160721e+01,\n",
              "       4.74553659e+01, 4.11112875e+01, 5.43707850e-01, 7.15052438e+01,\n",
              "       6.28777581e+01, 1.47028794e+01, 1.24683829e-01, 7.12181087e+01,\n",
              "       2.50167371e+01, 2.26470668e+01, 6.07589423e+00, 5.96507723e+01,\n",
              "       5.57481090e+01, 3.31279025e+01, 4.36944585e+01, 4.16295198e+01,\n",
              "       5.22022998e+01, 4.96533160e+01, 5.44586436e+01, 4.88226821e+01,\n",
              "       5.78076238e+01, 2.84314338e+01, 6.57920460e+01, 9.09625792e+01,\n",
              "       8.91063334e+01, 1.72954899e+01, 7.84299748e+01, 8.10278577e+01,\n",
              "       7.10286877e+01, 8.30580572e+01, 2.68046583e+00, 5.32670901e+00,\n",
              "       8.76795978e+01, 9.45405244e+01, 2.91597923e+01, 2.53683604e+01,\n",
              "       1.83692013e+01, 5.27238359e+01, 5.10314681e+01, 6.11804041e+01,\n",
              "       4.79698859e+01, 4.87392124e+01, 9.09505465e+01, 3.04760183e+01,\n",
              "       4.02508939e+01, 2.38750637e+01, 1.07726421e+02, 2.29011319e+01,\n",
              "       4.63353795e+01, 1.07333570e+01, 9.69465387e+01, 1.16105669e+02,\n",
              "       8.90941503e+01, 4.22743294e+01, 6.66866880e+01, 2.14773977e+01,\n",
              "       1.21504746e+02, 1.19320078e+02, 5.59496951e+01, 5.58511171e+01,\n",
              "       8.55679543e+01, 4.22136254e+01, 1.00840450e+02, 1.01665659e+02,\n",
              "       7.68329862e+00, 2.83467852e+01, 6.99245793e+01, 7.05074676e+01,\n",
              "       3.88418550e+01, 8.78787700e+01, 9.95013359e+01, 6.78829386e+01,\n",
              "       1.02968691e+02, 4.61390305e+01, 4.55639947e+01, 8.42044630e+01,\n",
              "       6.79359917e+01, 5.45017637e+01, 3.72436264e+01, 1.42995776e+02,\n",
              "       4.41209879e+01, 3.10644548e+01, 7.28359274e+01, 1.37620017e+02,\n",
              "       1.40331597e+02, 7.27193264e+01, 1.21631162e+02, 5.86154556e+01,\n",
              "       1.56922006e+02, 3.30849785e+01, 1.25234349e+01, 1.40159991e+02,\n",
              "       4.93345878e+01, 9.13034719e+01, 1.23731915e+02, 9.74120653e+01,\n",
              "       1.31242688e+02, 5.61114050e+01, 8.55708853e+01, 1.60025721e+02,\n",
              "       1.13879017e+02, 1.51103415e+02, 8.81542959e+00, 9.10650570e+01,\n",
              "       3.33112211e+01, 7.13167463e+01, 3.82099253e+01, 9.21197387e+01,\n",
              "       1.06060684e+02, 1.46836367e+02, 1.51736610e+00, 1.08459817e+02,\n",
              "       1.04398717e+02, 2.76219375e+00, 9.97425910e+01, 5.28769852e+01,\n",
              "       9.82439958e+01, 1.67128930e+02, 1.73303303e+02, 1.17351623e+02,\n",
              "       1.82219753e+02, 1.21321356e+02, 2.80851187e+01, 1.57916443e+02,\n",
              "       4.18139751e+01, 9.31515139e+01, 1.94891196e+02, 1.53857089e+02,\n",
              "       1.25735402e+02, 2.21584235e+01, 6.03127615e+01, 2.17615614e+01,\n",
              "       5.29711279e+01, 3.03680031e+01, 1.48302517e+01, 1.95402069e+02,\n",
              "       8.45868001e+01, 7.31110801e+01, 1.93503975e+02, 9.12144826e+01,\n",
              "       2.00605090e+01, 1.26075523e+02, 9.83698372e+01, 1.70731815e+02,\n",
              "       1.44351379e+02, 1.23096650e+02, 1.10147262e+02, 2.75016282e+01,\n",
              "       6.71039268e+01, 5.91951696e+00, 1.57795202e+02, 1.57162085e+02,\n",
              "       4.85768999e+01, 6.15537959e+00, 8.84425984e+01, 3.95948241e+01,\n",
              "       1.15076432e+02, 3.24854957e-02, 1.99454311e+02, 1.22446599e+02,\n",
              "       1.77639772e+02, 4.56388285e+01, 1.94670654e+02, 1.53635596e+02,\n",
              "       7.63031869e+01, 6.42780743e+01, 5.04932883e+01, 1.73142239e+01,\n",
              "       4.76271218e+01, 2.27854514e+02, 8.76313449e+01, 1.13503884e+02,\n",
              "       1.23481916e+02, 1.62063143e+02, 9.79362705e+01, 1.75828789e+02,\n",
              "       1.07344534e+02, 2.98251052e+01, 2.24599635e+02, 1.40959324e+01,\n",
              "       2.15589318e+02, 2.02689387e+02, 5.84270958e+01, 5.07802929e+01,\n",
              "       1.05590676e+02, 9.46601785e+01, 1.41073007e+02, 1.20006555e+02,\n",
              "       3.82137666e+01, 4.40019821e+01, 8.27977562e+00, 2.58676563e+02,\n",
              "       9.68584286e+01, 8.39144427e+01, 1.40226282e+01, 1.82141180e+01,\n",
              "       6.69188123e+01, 2.59805574e+02, 1.71245404e+02, 8.75044872e+00,\n",
              "       2.58339698e+02, 2.28236196e+02, 4.09373283e+01, 2.61488504e+02,\n",
              "       1.35499781e+02, 7.80591373e+01, 2.31157919e+02, 2.07254015e+02,\n",
              "       2.61037835e+02, 1.74101196e+02, 8.06669453e+01, 3.02921400e+01,\n",
              "       2.72027611e+02, 1.21194304e+02, 8.18889924e+01, 1.75297026e+02,\n",
              "       1.12704360e+02, 2.34872046e+00, 1.43683589e+02, 2.41895130e+02,\n",
              "       1.31363212e+02, 9.22488733e+01, 4.07223261e+01, 1.09281176e+02,\n",
              "       9.40528369e+01, 1.12694844e+02, 1.86282158e+02, 8.90786293e+01,\n",
              "       2.95978256e+02, 3.27274161e+01, 4.68879662e+01, 2.61142848e+02,\n",
              "       2.58768139e+02, 2.60633528e+02, 1.86931409e+02, 2.75921703e+02,\n",
              "       2.91521182e+02, 1.81100933e+02, 2.14119288e+02, 2.65265081e+02,\n",
              "       1.90581784e+02, 2.41340903e+02, 2.36257091e+02, 2.43348763e+02,\n",
              "       2.98501207e+02, 6.76038400e+01, 2.59492707e+02, 2.95803439e+02,\n",
              "       3.15959537e+02, 3.83871762e+01, 2.66318430e+02, 2.77047563e+02,\n",
              "       3.71586835e+01, 9.48983923e+01, 2.19404324e+02, 3.03591054e+02,\n",
              "       8.29513235e+01, 8.64010751e+01, 2.13558586e+02, 2.03162199e+02,\n",
              "       3.04523825e+01, 2.30500262e+02, 7.11887320e+01, 6.12163778e+01,\n",
              "       1.34003946e+02, 7.75090040e+01, 2.36143505e+02, 2.14427616e+02,\n",
              "       3.62055969e+01, 1.68240859e+02, 3.34135394e+01, 1.83702265e+02,\n",
              "       1.55217207e+02, 2.90232445e+02, 5.21479143e+01, 1.00970269e+02,\n",
              "       7.53854990e+01, 2.04780525e+01, 3.28315840e+02, 1.27083824e+01,\n",
              "       1.77800943e+02, 3.33290570e+02, 9.29531888e+01, 3.44694260e+02,\n",
              "       2.45074544e+01, 4.19153364e+01, 4.52107131e+01, 3.55298631e+02,\n",
              "       2.27801575e+02, 2.69346218e+02, 2.62637694e+02, 8.15041852e+01,\n",
              "       1.90528899e+02, 1.66029339e+02, 3.31477999e+02, 2.11143950e+02,\n",
              "       1.66913093e+02, 2.41026901e+02, 2.78819778e+02, 1.82883960e+02,\n",
              "       1.17362210e+02, 6.82764715e+01, 2.56888520e+02, 1.78505758e+02,\n",
              "       2.56628285e+02, 1.29837157e+02, 1.89942819e+02, 3.59127215e+02,\n",
              "       2.75510806e+02, 3.40428457e+02, 3.57425367e+02, 1.51922077e+01,\n",
              "       3.72819136e+02, 1.95789459e+02, 3.44665319e+02, 1.63450749e+02,\n",
              "       2.09803409e+02, 8.07249425e+01, 2.39027412e+02, 3.25872847e+02,\n",
              "       3.73310222e+02, 3.81619859e+02, 1.63401156e+02, 8.53412098e+01,\n",
              "       1.75652686e+02, 3.18415207e+02, 2.93566257e+02, 2.28968323e+02,\n",
              "       1.93645507e+02, 2.09313408e+02, 2.84023895e+02, 1.21580617e+01,\n",
              "       2.64015797e+00, 1.77929615e+02, 4.62501884e+01, 2.95521683e+01,\n",
              "       1.29535134e+02, 2.50034865e+01, 3.56621915e+02, 3.84073950e+02,\n",
              "       3.20397322e+02, 1.27803069e+02, 3.75717082e+02, 3.82791517e+02,\n",
              "       1.20597425e+02, 1.65516551e+02, 8.18959774e+01, 3.32781597e+02,\n",
              "       2.74679984e+02, 8.30060354e+01, 3.37306117e+02, 2.93258565e+02,\n",
              "       2.71515031e+02, 3.12379628e+02, 2.10605509e+02, 1.67015449e+02,\n",
              "       3.39125514e+02, 3.62250704e+02, 2.38940420e+02, 2.94697716e+02,\n",
              "       2.44079183e+01, 1.51891516e+02, 2.63189602e+02, 2.90625029e+02,\n",
              "       2.67574679e+02, 2.22806234e+02, 2.80029226e+01, 1.10534216e+02,\n",
              "       8.68078669e+01, 1.09422421e+02, 1.23973513e+02, 4.99489747e+00,\n",
              "       4.62571674e+01, 1.70145511e+02, 1.58189124e+02, 8.68997215e+01,\n",
              "       1.47058536e+01, 3.27680912e+02, 3.28981191e+02, 4.40975024e+02,\n",
              "       4.31715596e+02, 8.81668196e+01, 4.28452740e+02, 4.22817620e+02,\n",
              "       9.88803373e+00, 1.10182338e+02, 3.65742240e+02, 1.53909456e+02,\n",
              "       1.56711377e+02, 4.39994439e+02, 1.46024192e+02, 4.17923212e+02,\n",
              "       2.79791991e+02, 5.78560976e+01, 2.12105373e+02, 4.01997125e+02,\n",
              "       2.80473769e+02, 1.06373149e+02, 8.04199114e+01, 2.03574927e+02,\n",
              "       4.02381419e+02, 3.28194360e+01, 2.90152387e+02, 1.87918216e+02,\n",
              "       4.62232390e+02, 8.50945856e+00, 2.47686698e+02, 3.74120065e+02,\n",
              "       3.93928502e+02, 1.14053857e+02, 2.94369978e+02, 1.05187513e+02,\n",
              "       2.96375475e+02, 1.78931407e+02, 1.70522523e+02, 2.59563652e+02,\n",
              "       4.26020903e+02, 3.30789020e+02, 2.13213679e+02, 3.54864200e+02,\n",
              "       2.90003423e+02, 3.98181271e+02, 4.54598418e+02, 2.17247415e+02,\n",
              "       9.58291691e+01, 3.75829866e+02, 1.14818023e+02, 2.98912484e+02,\n",
              "       2.89306975e+02, 1.73470762e+01, 2.54686412e+02, 4.76780082e+02,\n",
              "       2.29482718e+02, 3.85763324e+02, 3.67160987e+02, 3.80303015e+02,\n",
              "       3.18312423e+01, 3.35344691e+02, 4.30202295e+02, 4.69220128e+02,\n",
              "       1.83060001e+02, 8.74860358e+00, 1.08236140e+02, 2.29212824e+02,\n",
              "       3.92028563e+02, 7.29175010e+01, 9.96282621e+01, 1.32555082e+02,\n",
              "       4.98865516e+02, 3.89699256e+02, 2.88760408e+02, 1.23457946e+02,\n",
              "       3.97289811e+02, 2.33663931e+01, 1.61777095e+02, 6.90466198e+00,\n",
              "       1.00188503e+02, 5.30277041e+01, 3.05620518e+01, 1.36405641e+01,\n",
              "       1.33144765e+02, 4.87837719e+02, 4.33811520e+02, 4.76918197e+02,\n",
              "       3.64646419e+01, 4.43626096e+02, 5.87122347e+01, 5.22321496e+02,\n",
              "       1.30241832e+02, 1.59180646e+02, 3.24691546e+01, 4.67221054e+02,\n",
              "       1.37766812e+02, 1.44002953e+02, 1.53737449e+02, 3.92191553e+01,\n",
              "       4.15831668e+02, 1.59625301e+02, 2.84289929e+02, 1.23403170e+02,\n",
              "       4.65201536e+02, 1.52858758e+02, 4.23572783e+02, 4.30273477e+02,\n",
              "       2.22113830e+01, 3.23140816e+02, 3.11148533e+02, 3.06326066e+02,\n",
              "       2.65770795e+02, 2.63125508e+02, 4.10113746e+02, 5.29229884e+02,\n",
              "       2.24096606e+02, 3.50055812e+02, 5.51292191e+02, 1.80093049e+02,\n",
              "       7.66858404e+01, 5.46589894e+01, 3.67413929e+02, 1.41026539e+02,\n",
              "       2.43481070e+02, 4.78343484e+02, 2.42425061e+02, 4.20831094e+02,\n",
              "       1.19366531e+02, 3.61512974e+02, 8.83993093e+01, 3.13648501e+02,\n",
              "       5.38649556e+02, 3.30936184e+02, 3.32857858e+02, 4.39331612e+02,\n",
              "       2.37131882e+02, 1.27089969e+02, 1.33817191e+02, 1.52583114e+02,\n",
              "       2.63585981e+02, 9.99456063e+01, 2.16506491e+02, 4.90497850e+02,\n",
              "       8.67967564e+01, 3.82539912e+02, 1.02909620e+02, 1.38365821e+02,\n",
              "       3.70423866e+02, 2.21817919e+02, 7.70489506e+01, 5.44181710e+02,\n",
              "       5.41972370e+02, 5.02046273e+02, 3.51839309e+02, 1.37098090e+02,\n",
              "       2.20836915e+02, 6.88247831e+01, 5.68978931e+02, 4.50907713e+02,\n",
              "       4.27261892e+02, 1.35274685e+02, 5.21415026e+02, 2.11764424e+02,\n",
              "       2.63437399e+02, 4.45741842e+00, 1.54115268e+02, 4.21709618e+02,\n",
              "       2.09892095e+02, 4.35834455e+02, 1.79941162e+01, 2.08475328e+02,\n",
              "       5.75687675e+02, 3.14230813e+02, 4.00725339e+02, 2.39285973e+02,\n",
              "       5.92598648e+01, 1.82736714e+02, 1.22946142e+02, 1.50390621e+02,\n",
              "       4.68153900e+02, 4.03073059e+02, 5.88455714e+02, 2.77208217e+02,\n",
              "       9.85257663e+01, 2.48878209e+02, 1.36632703e+02, 2.63598702e+02,\n",
              "       6.31578724e+02, 3.82686214e+02, 4.58063567e+02, 3.15671153e+02,\n",
              "       2.66814756e+02, 5.46717428e+02, 9.50236271e+01, 1.33374709e+02,\n",
              "       2.26558114e+01, 2.95690714e+02, 2.81482638e+02, 5.84987226e+02,\n",
              "       9.59882987e+00, 4.85647191e+02, 4.44732353e+01, 2.53215226e+01,\n",
              "       5.48439501e+02, 1.19698258e+02, 6.37732693e+02, 4.93365919e+02,\n",
              "       6.02999032e+02, 1.05677068e+02, 4.05529630e+02, 3.09421990e+02,\n",
              "       4.90912546e+02, 1.26915703e+02, 6.97462323e+01, 6.07768750e+02,\n",
              "       4.18042896e+02, 6.16229419e+02, 6.45694201e+02, 5.59772909e+02,\n",
              "       1.46985355e+02, 3.76935732e+02, 2.72690364e+02, 2.78780027e+02,\n",
              "       5.46355040e+02, 1.37535244e+02, 5.19934182e+02, 2.68652798e+02,\n",
              "       1.86738983e+02, 4.04053264e+02, 3.91462371e+02, 3.81740033e+02,\n",
              "       2.35904379e+02, 6.14955043e+02, 2.20829883e+02, 1.29383301e+02,\n",
              "       2.02594027e+02, 1.91115762e+02, 1.80010082e+02, 5.95146228e+02,\n",
              "       4.45991554e+02, 2.39240136e+02, 6.47628531e+01, 2.16968218e+02,\n",
              "       4.05984604e+01, 4.31164613e+02, 4.46019329e+02, 2.72190172e+00,\n",
              "       5.37917121e+00, 4.34214898e+02, 2.18497701e+02, 1.11968180e+02,\n",
              "       6.69623632e+02, 6.55214414e+02, 1.07687412e+02, 1.19019868e+02,\n",
              "       2.69255868e+02, 6.36215777e+02, 2.05287376e+02, 9.13095385e+01,\n",
              "       4.56007504e+02, 9.71120319e+00, 5.79565602e+02, 6.99098934e+00,\n",
              "       3.63482593e+02, 5.94293061e+02, 5.11002291e+02, 2.60650784e+02,\n",
              "       6.65134806e+02, 3.35625996e+02, 3.13677837e+02, 1.20823603e+02,\n",
              "       2.35226049e+02, 3.70175972e+02, 1.40652393e+01, 7.98389223e+01,\n",
              "       6.24466384e+02, 3.75991644e+02, 3.51048311e+02, 6.50523005e+01,\n",
              "       5.54814412e+02, 2.89490198e+01, 6.57914019e+02, 2.17968080e+02,\n",
              "       4.99751545e+01, 5.33285356e+02, 6.02672872e+02, 1.86401242e+02,\n",
              "       6.90430444e+02, 3.20877732e+01, 1.73698720e+02, 4.79868209e+02,\n",
              "       7.16868071e+02, 2.59332035e+02, 2.79408147e+02, 1.14123184e+01,\n",
              "       2.70328661e+02, 6.88216890e+02, 6.69272657e+02, 5.08666560e+02,\n",
              "       4.98405110e+02, 8.90134609e+01, 5.77496504e+02, 1.26003736e+02,\n",
              "       2.77647975e+02, 1.89414749e+02, 1.09321128e+02, 5.13548394e+02,\n",
              "       7.46452648e+02, 7.32260632e+01, 6.76064203e+02, 7.22849734e+02,\n",
              "       2.46554103e+01, 7.28842835e+02, 6.58348788e+02, 5.05609414e+01,\n",
              "       3.80848678e+02, 2.51863393e+02, 2.58000033e+02, 7.25443752e+02,\n",
              "       1.98430698e+02, 4.12618584e+02, 5.39385170e+02, 1.17784166e+02,\n",
              "       3.83233890e+02, 3.03903237e+02, 4.40257896e+02, 7.02432519e+02,\n",
              "       5.47161124e+01, 4.19989440e+02, 3.09581415e+02, 2.81390693e+02,\n",
              "       6.21456156e+02, 6.21096829e+02, 2.95138449e+02, 2.14159319e+02,\n",
              "       1.86427616e+02, 1.64477246e+02, 5.59123901e+02, 1.79241792e+02,\n",
              "       3.08599490e+02, 2.75920097e+02, 2.98998518e+02, 1.78055375e+02,\n",
              "       6.82540774e+02, 2.42068836e+01, 2.89607946e+02, 7.37279665e+02,\n",
              "       3.35094419e+02, 4.67269335e+02, 5.80740673e+02, 6.78169621e+02,\n",
              "       3.38465617e+01, 5.96282936e+02, 1.25221264e+02, 4.01479680e+02,\n",
              "       3.07620390e+02, 1.43432673e+02, 6.66501692e+01, 1.82059048e+02,\n",
              "       3.50731225e+02, 7.54333171e+02, 5.51132294e+02, 5.27965241e+02,\n",
              "       6.05981533e+02, 6.80018423e+02, 7.28787966e+01, 5.45079571e+02,\n",
              "       1.43684029e+02, 5.08831374e+02, 1.30084816e+02, 2.06166468e+02,\n",
              "       3.39480213e+02, 5.00595179e+02, 4.35471642e+02, 5.33403007e+02,\n",
              "       3.60590119e+02, 5.81757882e+02, 2.77291171e+02, 1.53870534e+02,\n",
              "       5.89238497e+02, 3.69004683e+01, 3.48221711e+02, 4.73049427e+01,\n",
              "       7.96603750e+02, 6.01887834e+02, 8.12478519e+02, 4.48419470e+02,\n",
              "       4.40709579e+02, 4.71612146e+02, 1.16813592e+02, 8.27562747e+02,\n",
              "       3.55691871e+02, 2.84324301e+01, 6.04703300e+02, 3.92956792e+02,\n",
              "       7.46374021e+02, 5.81943628e+02, 9.02648168e+01, 6.85987357e+02,\n",
              "       1.45093215e+02, 4.94661843e+01, 7.93832151e+02, 4.44542626e+00,\n",
              "       7.74237064e+02, 1.87605921e+02, 2.78512092e+02, 3.59715746e+01,\n",
              "       6.25914271e+02, 1.31541928e+02, 6.02703501e+02, 2.24959032e+02,\n",
              "       3.27702774e+02, 6.01003602e+02, 7.33325484e+02, 7.50621721e+02,\n",
              "       2.08796546e+02, 6.56740450e-01, 1.67933304e+02, 4.01798758e+02,\n",
              "       8.22295881e+02, 3.70330136e+02, 7.74917608e+02, 1.11584132e+02,\n",
              "       8.66768668e+02, 7.02472053e+02, 6.51323793e+02, 3.61366278e+02,\n",
              "       4.24709715e+02, 2.94083160e+02, 5.50828526e+02, 2.08756777e+02,\n",
              "       3.72632676e+02, 1.79919154e+02, 3.73679921e+02, 7.79904906e+02,\n",
              "       6.47523247e+02, 5.27978921e+02, 3.67683553e+02, 5.67076045e+02,\n",
              "       1.14152623e+02, 8.17037402e+02, 2.60191950e+02, 6.33914072e+02,\n",
              "       4.82688570e+02, 1.10440010e+02, 1.75258954e+02, 2.95622120e+02,\n",
              "       2.32607116e+02, 8.09014215e+02, 7.32256229e+00, 4.41770460e+02,\n",
              "       4.80885224e+02, 1.04986002e+02, 6.51491113e+02, 2.78189712e+02,\n",
              "       7.65128475e+02, 4.78571132e+02, 2.01070221e+02, 7.70472302e+02,\n",
              "       6.20000309e+02, 1.02506643e+02, 5.54673383e+02, 8.74516837e+02,\n",
              "       1.51824337e+02, 2.59248752e+02, 7.61178309e+02, 3.32836631e+02,\n",
              "       4.63534866e+02, 8.30521991e+02, 7.99365442e+00, 2.28862430e+02,\n",
              "       8.30366840e+02, 5.19504845e+01, 2.64990786e+02, 1.25851490e+02,\n",
              "       8.00889063e+02, 4.90233317e+02, 1.18000821e+02, 2.64662890e+01,\n",
              "       7.42035867e+02, 8.69404984e+02, 5.83128709e+02, 8.09086703e+02,\n",
              "       1.27391085e+02, 6.35738808e+02, 4.68963326e+02, 2.59311205e+02,\n",
              "       5.70323828e+02, 1.00383244e+02, 7.43616987e+02, 9.32123414e+02,\n",
              "       1.18273395e+02, 2.54434230e+02, 9.27348192e+01, 1.37521698e+00,\n",
              "       4.32094229e+02, 5.20101347e+02, 6.76575833e+02, 6.42108619e+02,\n",
              "       2.99721027e+02, 8.38230021e+02, 4.28360875e+02, 3.32331490e+02,\n",
              "       5.69992973e+02, 8.91249739e+02, 9.07995595e+02, 2.69109216e+02,\n",
              "       8.06067153e+02, 6.22723345e+02, 9.81484046e+00, 3.89032308e+02,\n",
              "       8.34953267e+02, 3.95921722e+02, 4.10111797e+02, 4.77446008e+02,\n",
              "       5.06091664e+02, 9.58477776e+02, 8.98094370e+02, 4.30716577e+02,\n",
              "       3.56951875e+01, 6.25296033e+02, 2.00029180e+02, 5.42571647e+02,\n",
              "       2.61251827e+02, 8.26447809e+02, 8.78867441e+02, 1.29405704e+02,\n",
              "       2.14600201e+02, 9.60067081e+02, 3.87002251e+02, 1.03630805e+02,\n",
              "       6.94228844e+02, 9.55217632e+01, 3.61933599e+02, 7.77108591e+02,\n",
              "       6.21936352e+02, 8.34104494e+02, 3.46712977e+02, 1.06058191e+02,\n",
              "       6.68055587e+02, 5.68166724e+02, 4.73046882e+02, 1.64381426e+02,\n",
              "       2.92432487e+02, 7.11418530e+02, 5.07766523e+02, 2.73830414e+02,\n",
              "       8.29764012e+02, 9.96228963e+01, 2.09321688e+02, 3.22249048e+02,\n",
              "       4.13111776e+02, 9.33086344e+02, 9.44062480e+02, 3.88824501e+02])"
            ]
          },
          "metadata": {
            "tags": []
          },
          "execution_count": 17
        }
      ]
    },
    {
      "cell_type": "markdown",
      "metadata": {
        "id": "6kaRFpLVoZhM"
      },
      "source": [
        "We now have sales prices for 1000 items currently for sale at BuyStuff. Now create an RDD called `price_items` using the newly created data with 10 slices. After you create it, use one of the basic actions to see what's in the RDD."
      ]
    },
    {
      "cell_type": "code",
      "metadata": {
        "id": "M4x3_0L4oZhN"
      },
      "source": [
        "price_items = sc.parallelize(sales_figures, numSlices=10)\n"
      ],
      "execution_count": 18,
      "outputs": []
    },
    {
      "cell_type": "markdown",
      "metadata": {
        "id": "bqVNTr8roZhN"
      },
      "source": [
        "Now let's perform some operations on this simple dataset. To begin with, create a function that will take into account how much money BuyStuff will receive after sales tax has been applied (assume a sales tax of 8%). To make this happen, create a function called `sales_tax()` that returns the amount of money our company will receive after the sales tax has been applied. The function will have this parameter:\n",
        "\n",
        "* `item`: (float) number to be multiplied by the sales tax.\n",
        "\n",
        "\n",
        "Apply that function to the rdd by using the `.map()` method and assign it to a variable `renenue_minus_tax`"
      ]
    },
    {
      "cell_type": "code",
      "metadata": {
        "id": "kfUQfJdQoZhN"
      },
      "source": [
        "def sales_tax(num):\n",
        "    return num * 0.92\n",
        "\n",
        "revenue_minus_tax = price_items.map(sales_tax)"
      ],
      "execution_count": 19,
      "outputs": []
    },
    {
      "cell_type": "markdown",
      "metadata": {
        "id": "p9uN3to-oZhN"
      },
      "source": [
        "Remember, Spark has __lazy evaluation__, which means that the `sales_tax()` function is a transformer that is not executed until you call an action. Use one of the collection methods to execute the transformer now a part of the RDD and observe the contents of the `revenue_minus_tax` rdd."
      ]
    },
    {
      "cell_type": "code",
      "metadata": {
        "scrolled": true,
        "colab": {
          "base_uri": "https://localhost:8080/"
        },
        "id": "smsEvPXboZhN",
        "outputId": "8be40df7-2eb8-403e-f37e-b721fad466aa"
      },
      "source": [
        "# perform action to retrieve rdd values\n",
        "revenue_minus_tax.take(5)"
      ],
      "execution_count": 20,
      "outputs": [
        {
          "output_type": "execute_result",
          "data": {
            "text/plain": [
              "[0.32634264836006366,\n",
              " 0.7010130115265678,\n",
              " 1.436786996533668,\n",
              " 0.19804679876304593,\n",
              " 3.534776055008845]"
            ]
          },
          "metadata": {
            "tags": []
          },
          "execution_count": 20
        }
      ]
    },
    {
      "cell_type": "markdown",
      "metadata": {
        "id": "c43qN5vkoZhO"
      },
      "source": [
        "### Lambda Functions\n",
        "\n",
        "Note that you can also use lambda functions if you want to quickly perform simple operations on data without creating a function. Let's assume that BuyStuff has also decided to offer a 10% discount on all of their items on the pre-tax amounts of each item. Use a lambda function within a `.map()` method to apply the additional 10% loss in revenue for BuyStuff and assign the transformed RDD to a new RDD called `discounted`."
      ]
    },
    {
      "cell_type": "code",
      "metadata": {
        "id": "s5ixT1uCoZhO"
      },
      "source": [
        "discounted = revenue_minus_tax.map(lambda x: x * 0.9)"
      ],
      "execution_count": 21,
      "outputs": []
    },
    {
      "cell_type": "code",
      "metadata": {
        "scrolled": true,
        "colab": {
          "base_uri": "https://localhost:8080/"
        },
        "id": "cPxClVcioZhO",
        "outputId": "3cfc0bf0-f5ca-4482-cd83-ee5bc7b703e2"
      },
      "source": [
        "discounted.take(10)"
      ],
      "execution_count": 22,
      "outputs": [
        {
          "output_type": "execute_result",
          "data": {
            "text/plain": [
              "[0.2937083835240573,\n",
              " 0.630911710373911,\n",
              " 1.2931082968803012,\n",
              " 0.17824211888674135,\n",
              " 3.1812984495079606,\n",
              " 1.3301693532907044,\n",
              " 5.265559047667662,\n",
              " 2.8084585411921,\n",
              " 6.698639881139492,\n",
              " 6.242156727170992]"
            ]
          },
          "metadata": {
            "tags": []
          },
          "execution_count": 22
        }
      ]
    },
    {
      "cell_type": "markdown",
      "metadata": {
        "id": "4UAd_Q_poZhO"
      },
      "source": [
        "## Chaining Methods\n",
        "\n",
        "You are also able to chain methods together with Spark. In one line, remove the tax and discount from the revenue of BuyStuff and use a collection method to see the 15 costliest items."
      ]
    },
    {
      "cell_type": "code",
      "metadata": {
        "scrolled": true,
        "colab": {
          "base_uri": "https://localhost:8080/"
        },
        "id": "asKnos6ooZhO",
        "outputId": "f43a1ee8-5451-4dfc-a7ef-f2360696479e"
      },
      "source": [
        "price_items.map(sales_tax).map(lambda x: x * 0.9).take(15)"
      ],
      "execution_count": 24,
      "outputs": [
        {
          "output_type": "execute_result",
          "data": {
            "text/plain": [
              "[0.2937083835240573,\n",
              " 0.630911710373911,\n",
              " 1.2931082968803012,\n",
              " 0.17824211888674135,\n",
              " 3.1812984495079606,\n",
              " 1.3301693532907044,\n",
              " 5.265559047667662,\n",
              " 2.8084585411921,\n",
              " 6.698639881139492,\n",
              " 6.242156727170992,\n",
              " 0.9916805255598298,\n",
              " 2.827904321094876,\n",
              " 1.8539902878915755,\n",
              " 10.211154617735561,\n",
              " 8.418954284420485]"
            ]
          },
          "metadata": {
            "tags": []
          },
          "execution_count": 24
        }
      ]
    },
    {
      "cell_type": "markdown",
      "metadata": {
        "id": "knEqcwaIoZhO"
      },
      "source": [
        "## RDD Lineage\n",
        "\n",
        "\n",
        "We are able to see the full lineage of all the operations that have been performed on an RDD by using the `RDD.toDebugString()` method. As your transformations become more complex, you are encouraged to call this method to get a better understanding of the dependencies between RDDs. Try calling it on the `discounted` RDD to see what RDDs it is dependent on."
      ]
    },
    {
      "cell_type": "code",
      "metadata": {
        "colab": {
          "base_uri": "https://localhost:8080/"
        },
        "id": "_xJvaaOooZhP",
        "outputId": "ae5cbc00-e14e-4f67-e75a-78de387facdb"
      },
      "source": [
        "discounted.toDebugString()"
      ],
      "execution_count": 25,
      "outputs": [
        {
          "output_type": "execute_result",
          "data": {
            "text/plain": [
              "b'(10) PythonRDD[9] at RDD at PythonRDD.scala:53 []\\n |   ParallelCollectionRDD[5] at parallelize at PythonRDD.scala:195 []'"
            ]
          },
          "metadata": {
            "tags": []
          },
          "execution_count": 25
        }
      ]
    },
    {
      "cell_type": "markdown",
      "metadata": {
        "id": "6MKsM-BcoZhP"
      },
      "source": [
        "### Map vs. Flatmap\n",
        "\n",
        "Depending on how you want your data to be outputted, you might want to use `.flatMap()` rather than a simple `.map()`. Let's take a look at how it performs operations versus the standard map. Let's say we wanted to maintain the original amount BuyStuff receives for each item as well as the new amount after the tax and discount are applied. Create a map function that will return a tuple with (original price, post-discount price)."
      ]
    },
    {
      "cell_type": "code",
      "metadata": {
        "colab": {
          "base_uri": "https://localhost:8080/"
        },
        "id": "8UrpDoSPoZhP",
        "outputId": "cf87399c-c930-4cfb-91cb-a912a79d5d59"
      },
      "source": [
        "mapped = price_items.map(lambda x: (x, x*0.92 *0.9))\n",
        "print(mapped.count())\n",
        "print(mapped.take(10))"
      ],
      "execution_count": 30,
      "outputs": [
        {
          "output_type": "stream",
          "text": [
            "1000\n",
            "[(0.3547202699565909, 0.2937083835240573), (0.7619706647027911, 0.630911710373911), (1.5617249962322477, 1.2931082968803012), (0.2152682595250499, 0.17824211888674135), (3.842147885879179, 3.1812984495079606), (1.606484726196503, 1.3301693532907044), (6.3593708305165, 5.265559047667662), (3.3918581415363525, 2.8084585411921), (8.090144783984893, 6.698639881139492), (7.538836627018107, 6.242156727170992)]\n"
          ],
          "name": "stdout"
        }
      ]
    },
    {
      "cell_type": "markdown",
      "metadata": {
        "id": "EIygU1EzoZhP"
      },
      "source": [
        "Note that we have 1000 tuples created to our specification. Let's take a look at how `.flatMap()` differs in its implementation. Use the `.flatMap()` method with the same function you created above."
      ]
    },
    {
      "cell_type": "code",
      "metadata": {
        "colab": {
          "base_uri": "https://localhost:8080/"
        },
        "id": "px8ezoR6oZhP",
        "outputId": "ab8cdb47-4ef1-4e99-96c1-ad5f696c0987"
      },
      "source": [
        "flat_mapped = price_items.flatMap(lambda x: (x,  x * 0.92 * 0.9))\n",
        "print(flat_mapped.count())\n",
        "print(flat_mapped.take(10))"
      ],
      "execution_count": 32,
      "outputs": [
        {
          "output_type": "stream",
          "text": [
            "2000\n",
            "[0.3547202699565909, 0.2937083835240573, 0.7619706647027911, 0.630911710373911, 1.5617249962322477, 1.2931082968803012, 0.2152682595250499, 0.17824211888674135, 3.842147885879179, 3.1812984495079606]\n"
          ],
          "name": "stdout"
        }
      ]
    },
    {
      "cell_type": "markdown",
      "metadata": {
        "id": "-TaobE2NoZhP"
      },
      "source": [
        "Rather than being represented by tuples, all of the  values are now on the same level. When we are trying to combine different items together, it is sometimes necessary to use `.flatMap()` rather than `.map()` in order to properly reduce to our specifications. This is not one of those instances, but in the upcoming lab, you just might have to use it."
      ]
    },
    {
      "cell_type": "markdown",
      "metadata": {
        "id": "gnTFSP0UoZhP"
      },
      "source": [
        "## Filter\n",
        "After meeting with some external consultants, BuyStuff has determined that its business will be more profitable if it focuses on higher ticket items. Now, use the `.filter()` method to select items that bring in more than $300 after tax and discount have been removed. A filter method is a specialized form of a map function that only returns the items that match a certain criterion. In the cell below:\n",
        "* use a lambda function within a `.filter()` method to meet the consultant's suggestion's specifications. set `RDD = selected_items`\n",
        "* calculate the total number of items remaining in BuyStuff's inventory"
      ]
    },
    {
      "cell_type": "code",
      "metadata": {
        "colab": {
          "base_uri": "https://localhost:8080/"
        },
        "id": "JaXCbO_9oZhQ",
        "outputId": "cbf12603-6a95-40c0-804d-86997404ef2c"
      },
      "source": [
        "# use the filter function\n",
        "selected_items = discounted.filter(lambda x: x>300)\n",
        "\n",
        "# calculate total remaining in inventory \n",
        "selected_items.count()"
      ],
      "execution_count": 34,
      "outputs": [
        {
          "output_type": "execute_result",
          "data": {
            "text/plain": [
              "259"
            ]
          },
          "metadata": {
            "tags": []
          },
          "execution_count": 34
        }
      ]
    },
    {
      "cell_type": "markdown",
      "metadata": {
        "id": "vHQzSFz-oZhQ"
      },
      "source": [
        "## Reduce\n",
        "\n",
        "Reduce functions are where you are in some way combing all of the variables that you have mapped out. Here is an example of how a reduce function works when the task is to sum all values:\n",
        "\n",
        "<img src = \"./images/reduce_function.png\" width = \"600\">  \n",
        "\n",
        "\n",
        "As you can see, the operation is performed within each partition first, after which, the results of the computations in each partition are combined to come up with one final answer.  \n",
        "\n",
        "Now it's time to figure out how much money BuyStuff would make from selling one of all of its items after they've reduced their inventory. Use the `.reduce()` method with a lambda function to add up all of the values in the RDD. Your lambda function should have two variables. "
      ]
    },
    {
      "cell_type": "code",
      "metadata": {
        "colab": {
          "base_uri": "https://localhost:8080/"
        },
        "id": "ABUxsd3GoZhQ",
        "outputId": "41673bf8-08c8-4ad8-91b8-45a9e4b36efd"
      },
      "source": [
        "selected_items.reduce(lambda x, y: x + y)"
      ],
      "execution_count": 36,
      "outputs": [
        {
          "output_type": "execute_result",
          "data": {
            "text/plain": [
              "120317.02918035832"
            ]
          },
          "metadata": {
            "tags": []
          },
          "execution_count": 36
        }
      ]
    },
    {
      "cell_type": "markdown",
      "metadata": {
        "id": "xaMF72IqoZhQ"
      },
      "source": [
        "The time has come for BuyStuff to open up shop and start selling its goods. It only has one of each item, but it's allowing 50 lucky users to buy as many items as they want while they remain in stock. Within seconds, BuyStuff is sold out. Below, you'll find the sales data in an RDD with tuples of (user, item bought)."
      ]
    },
    {
      "cell_type": "code",
      "metadata": {
        "colab": {
          "base_uri": "https://localhost:8080/"
        },
        "id": "13_WXYhRoZhR",
        "outputId": "bddd3f29-6f2b-424d-d2ae-c23e3e35dbbd"
      },
      "source": [
        "import random\n",
        "random.seed(42)\n",
        "# generating simulated users that have bought each item\n",
        "sales_data = selected_items.map(lambda x: (random.randint(1, 50), x))\n",
        "\n",
        "sales_data.take(7)"
      ],
      "execution_count": 37,
      "outputs": [
        {
          "output_type": "execute_result",
          "data": {
            "text/plain": [
              "[(8, 308.69424462378555),\n",
              " (47, 309.1008638614665),\n",
              " (20, 315.98124288089457),\n",
              " (12, 318.01323059310255),\n",
              " (18, 311.0937439764283),\n",
              " (7, 316.95137587852093),\n",
              " (35, 365.1273200828787)]"
            ]
          },
          "metadata": {
            "tags": []
          },
          "execution_count": 37
        }
      ]
    },
    {
      "cell_type": "markdown",
      "metadata": {
        "id": "5xBrGp-EoZhR"
      },
      "source": [
        "It's time to determine some basic statistics about BuyStuff users.\n",
        "\n",
        "Let's start off by creating an RDD that determines how much each user spent in total.\n",
        "To do this we can use a method called `.reduceByKey()` to perform reducing operations while grouping by keys. After you have calculated the total, use the `.sortBy()` method on the RDD to rank the users from the highest spending to the least spending. "
      ]
    },
    {
      "cell_type": "code",
      "metadata": {
        "colab": {
          "base_uri": "https://localhost:8080/"
        },
        "id": "DpD137SYoZhR",
        "outputId": "afce3f41-3eb5-4465-a09e-8a65d4927020"
      },
      "source": [
        "# calculate how much each user spent\n",
        "total_spent = sales_data.reduceByKey(lambda x, y: x + y)\n",
        "total_spent.take(5)"
      ],
      "execution_count": 40,
      "outputs": [
        {
          "output_type": "execute_result",
          "data": {
            "text/plain": [
              "[(20, 1423.193217413806),\n",
              " (30, 987.5564235602794),\n",
              " (50, 3188.87983997793),\n",
              " (10, 2690.2695037481826),\n",
              " (40, 975.6825329788328)]"
            ]
          },
          "metadata": {
            "tags": []
          },
          "execution_count": 40
        }
      ]
    },
    {
      "cell_type": "code",
      "metadata": {
        "colab": {
          "base_uri": "https://localhost:8080/"
        },
        "id": "TgU-Fv66oZhR",
        "outputId": "fe870a3f-1259-487c-98f2-37eadd47cd26"
      },
      "source": [
        "# sort the users from highest to lowest spenders\n",
        "total_spent.sortBy(lambda x: x[1], ascending=False).collect()"
      ],
      "execution_count": 43,
      "outputs": [
        {
          "output_type": "execute_result",
          "data": {
            "text/plain": [
              "[(13, 4927.506399892192),\n",
              " (25, 4239.4087561083725),\n",
              " (15, 4077.744969258163),\n",
              " (19, 3859.726334609571),\n",
              " (38, 3800.382126836278),\n",
              " (12, 3692.3598371643698),\n",
              " (46, 3682.24480878828),\n",
              " (48, 3659.698100025976),\n",
              " (17, 3450.858056700678),\n",
              " (31, 3443.464438802808),\n",
              " (7, 3205.233085086658),\n",
              " (26, 3190.5905894979505),\n",
              " (50, 3188.87983997793),\n",
              " (29, 3147.6969133581542),\n",
              " (36, 3060.940880767278),\n",
              " (27, 3015.456192567057),\n",
              " (2, 2995.1569266415995),\n",
              " (45, 2732.868126918524),\n",
              " (22, 2727.834101931051),\n",
              " (10, 2690.2695037481826),\n",
              " (28, 2515.4826748640426),\n",
              " (37, 2439.537613989809),\n",
              " (21, 2379.7744398001137),\n",
              " (24, 2311.143280018846),\n",
              " (18, 2291.3933071386073),\n",
              " (14, 2266.881162675513),\n",
              " (1, 2262.2222576993445),\n",
              " (43, 2233.2262870689447),\n",
              " (16, 2221.5839832710258),\n",
              " (49, 2219.068390645684),\n",
              " (4, 2174.5908181663553),\n",
              " (47, 2012.3909207531792),\n",
              " (34, 1971.7746419204616),\n",
              " (32, 1939.8991767167367),\n",
              " (23, 1939.3886572025444),\n",
              " (5, 1924.2405588252764),\n",
              " (44, 1904.1135626222685),\n",
              " (8, 1641.9989546629756),\n",
              " (39, 1612.2527074431405),\n",
              " (42, 1584.3263921194268),\n",
              " (41, 1509.1885188188332),\n",
              " (20, 1423.193217413806),\n",
              " (9, 1286.6003438471785),\n",
              " (33, 1213.3908024309758),\n",
              " (30, 987.5564235602794),\n",
              " (40, 975.6825329788328),\n",
              " (11, 881.8313870209513),\n",
              " (3, 781.3883125541962),\n",
              " (6, 624.5878654479035)]"
            ]
          },
          "metadata": {
            "tags": []
          },
          "execution_count": 43
        }
      ]
    },
    {
      "cell_type": "markdown",
      "metadata": {
        "id": "igFn-HePoZhR"
      },
      "source": [
        "Next, let's determine how many items were bought per user. This can be solved in one line using an RDD method. After you've counted the total number of items bought per person, sort the users from most number of items bought to least number of items. Time to start a customer loyalty program!"
      ]
    },
    {
      "cell_type": "code",
      "metadata": {
        "colab": {
          "base_uri": "https://localhost:8080/"
        },
        "id": "Nvyz_AN5oZhR",
        "outputId": "4d798d46-db35-41be-e211-0f6752f7064d"
      },
      "source": [
        "total_items = sales_data.countByKey()\n",
        "sorted(total_items.items(), key=lambda kv: kv[1], reverse=True)"
      ],
      "execution_count": 44,
      "outputs": [
        {
          "output_type": "execute_result",
          "data": {
            "text/plain": [
              "[(48, 15),\n",
              " (9, 10),\n",
              " (23, 9),\n",
              " (19, 8),\n",
              " (26, 8),\n",
              " (22, 8),\n",
              " (7, 8),\n",
              " (37, 8),\n",
              " (13, 8),\n",
              " (20, 8),\n",
              " (2, 7),\n",
              " (30, 7),\n",
              " (28, 7),\n",
              " (41, 7),\n",
              " (6, 7),\n",
              " (33, 6),\n",
              " (8, 6),\n",
              " (3, 6),\n",
              " (15, 6),\n",
              " (46, 6),\n",
              " (40, 6),\n",
              " (25, 6),\n",
              " (45, 5),\n",
              " (5, 5),\n",
              " (10, 5),\n",
              " (36, 5),\n",
              " (34, 5),\n",
              " (18, 5),\n",
              " (44, 5),\n",
              " (43, 5),\n",
              " (17, 4),\n",
              " (29, 4),\n",
              " (38, 4),\n",
              " (16, 4),\n",
              " (12, 3),\n",
              " (47, 3),\n",
              " (11, 3),\n",
              " (35, 3),\n",
              " (1, 3),\n",
              " (42, 3),\n",
              " (24, 3),\n",
              " (31, 3),\n",
              " (32, 2),\n",
              " (39, 2),\n",
              " (21, 2),\n",
              " (4, 2),\n",
              " (49, 1),\n",
              " (14, 1),\n",
              " (27, 1),\n",
              " (50, 1)]"
            ]
          },
          "metadata": {
            "tags": []
          },
          "execution_count": 44
        }
      ]
    },
    {
      "cell_type": "markdown",
      "metadata": {
        "id": "e0SwBNfqoZhS"
      },
      "source": [
        "### Additional Reading\n",
        "\n",
        "- [The original paper on RDDs](https://cs.stanford.edu/~matei/papers/2012/nsdi_spark.pdf)\n",
        "- [RDDs in Apache Spark](https://data-flair.training/blogs/create-rdds-in-apache-spark/)\n",
        "- [Programming with RDDs](https://runawayhorse001.github.io/LearningApacheSpark/rdd.html)\n",
        "- [RDD Transformations and Actions Summary](https://www.analyticsvidhya.com/blog/2016/10/using-pyspark-to-perform-transformations-and-actions-on-rdd/)"
      ]
    },
    {
      "cell_type": "markdown",
      "metadata": {
        "id": "HlhlCAUuoZhS"
      },
      "source": [
        "## Summary\n",
        "\n",
        "In this lab we went through a brief introduction to RDD creation from a Python collection, setting a number of logical partitions for an RDD and extracting lineage. We also used transformations and actions to perform calculations across RDDs on a distributed setup. In the next lab, you'll get the chance to apply these transformations on different books to calculate word counts and various statistics.\n"
      ]
    }
  ]
}