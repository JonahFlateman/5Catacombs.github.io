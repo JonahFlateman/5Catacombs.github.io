{
  "nbformat": 4,
  "nbformat_minor": 0,
  "metadata": {
    "kernelspec": {
      "display_name": "Python 3",
      "language": "python",
      "name": "python3"
    },
    "language_info": {
      "codemirror_mode": {
        "name": "ipython",
        "version": 3
      },
      "file_extension": ".py",
      "mimetype": "text/x-python",
      "name": "python",
      "nbconvert_exporter": "python",
      "pygments_lexer": "ipython3",
      "version": "3.7.3"
    },
    "colab": {
      "name": "index (1).ipynb",
      "provenance": [],
      "include_colab_link": true
    }
  },
  "cells": [
    {
      "cell_type": "markdown",
      "metadata": {
        "id": "view-in-github",
        "colab_type": "text"
      },
      "source": [
        "<a href=\"https://colab.research.google.com/github/JonahFlateman/5Catacombs.github.io/blob/master/machinelearningwithspark.ipynb\" target=\"_parent\"><img src=\"https://colab.research.google.com/assets/colab-badge.svg\" alt=\"Open In Colab\"/></a>"
      ]
    },
    {
      "cell_type": "code",
      "metadata": {
        "colab": {
          "base_uri": "https://localhost:8080/"
        },
        "id": "P_oHFft0_no3",
        "outputId": "9afc1d2b-3734-4e57-c379-8cb33425a641"
      },
      "source": [
        "!apt update"
      ],
      "execution_count": 2,
      "outputs": [
        {
          "output_type": "stream",
          "text": [
            "\u001b[33m\r0% [Working]\u001b[0m\r            \rGet:1 http://security.ubuntu.com/ubuntu bionic-security InRelease [88.7 kB]\n",
            "\u001b[33m\r0% [Connecting to archive.ubuntu.com (91.189.88.142)] [1 InRelease 14.2 kB/88.7\u001b[0m\u001b[33m\r0% [Waiting for headers] [Waiting for headers] [Waiting for headers] [Waiting f\u001b[0m\u001b[33m\r0% [1 InRelease gpgv 88.7 kB] [Waiting for headers] [Waiting for headers] [Wait\u001b[0m\r                                                                               \rIgn:2 https://developer.download.nvidia.com/compute/cuda/repos/ubuntu1804/x86_64  InRelease\n",
            "\u001b[33m\r0% [1 InRelease gpgv 88.7 kB] [Waiting for headers] [Waiting for headers] [Wait\u001b[0m\r                                                                               \rGet:3 https://cloud.r-project.org/bin/linux/ubuntu bionic-cran40/ InRelease [3,626 B]\n",
            "Get:4 http://ppa.launchpad.net/c2d4u.team/c2d4u4.0+/ubuntu bionic InRelease [15.9 kB]\n",
            "Hit:5 http://archive.ubuntu.com/ubuntu bionic InRelease\n",
            "Ign:6 https://developer.download.nvidia.com/compute/machine-learning/repos/ubuntu1804/x86_64  InRelease\n",
            "Get:7 https://developer.download.nvidia.com/compute/cuda/repos/ubuntu1804/x86_64  Release [697 B]\n",
            "Hit:8 https://developer.download.nvidia.com/compute/machine-learning/repos/ubuntu1804/x86_64  Release\n",
            "Get:9 https://developer.download.nvidia.com/compute/cuda/repos/ubuntu1804/x86_64  Release.gpg [836 B]\n",
            "Get:10 http://archive.ubuntu.com/ubuntu bionic-updates InRelease [88.7 kB]\n",
            "Hit:11 http://ppa.launchpad.net/cran/libgit2/ubuntu bionic InRelease\n",
            "Get:12 http://security.ubuntu.com/ubuntu bionic-security/universe amd64 Packages [1,415 kB]\n",
            "Get:13 http://security.ubuntu.com/ubuntu bionic-security/restricted amd64 Packages [450 kB]\n",
            "Get:14 http://archive.ubuntu.com/ubuntu bionic-backports InRelease [74.6 kB]\n",
            "Get:15 http://security.ubuntu.com/ubuntu bionic-security/main amd64 Packages [2,185 kB]\n",
            "Get:16 http://ppa.launchpad.net/deadsnakes/ppa/ubuntu bionic InRelease [15.9 kB]\n",
            "Get:17 https://cloud.r-project.org/bin/linux/ubuntu bionic-cran40/ Packages [61.8 kB]\n",
            "Get:18 http://ppa.launchpad.net/graphics-drivers/ppa/ubuntu bionic InRelease [21.3 kB]\n",
            "Ign:20 https://developer.download.nvidia.com/compute/cuda/repos/ubuntu1804/x86_64  Packages\n",
            "Get:20 https://developer.download.nvidia.com/compute/cuda/repos/ubuntu1804/x86_64  Packages [800 kB]\n",
            "Get:21 http://ppa.launchpad.net/c2d4u.team/c2d4u4.0+/ubuntu bionic/main Sources [1,772 kB]\n",
            "Get:22 http://archive.ubuntu.com/ubuntu bionic-updates/multiverse amd64 Packages [33.5 kB]\n",
            "Get:23 http://archive.ubuntu.com/ubuntu bionic-updates/restricted amd64 Packages [481 kB]\n",
            "Get:24 http://archive.ubuntu.com/ubuntu bionic-updates/universe amd64 Packages [2,184 kB]\n",
            "Get:25 http://ppa.launchpad.net/c2d4u.team/c2d4u4.0+/ubuntu bionic/main amd64 Packages [906 kB]\n",
            "Get:26 http://archive.ubuntu.com/ubuntu bionic-updates/main amd64 Packages [2,619 kB]\n",
            "Get:27 http://ppa.launchpad.net/deadsnakes/ppa/ubuntu bionic/main amd64 Packages [40.9 kB]\n",
            "Get:28 http://ppa.launchpad.net/graphics-drivers/ppa/ubuntu bionic/main amd64 Packages [41.6 kB]\n",
            "Fetched 13.3 MB in 4s (3,261 kB/s)\n",
            "Reading package lists... Done\n",
            "Building dependency tree       \n",
            "Reading state information... Done\n",
            "48 packages can be upgraded. Run 'apt list --upgradable' to see them.\n"
          ],
          "name": "stdout"
        }
      ]
    },
    {
      "cell_type": "code",
      "metadata": {
        "id": "Jyw34Ma5_sjg"
      },
      "source": [
        "!apt-get install openjdk-8-jdk-headless -qq > /dev/null\n",
        "!wget -q https://downloads.apache.org/spark/spark-2.4.8/spark-2.4.8-bin-hadoop2.7.tgz\n",
        "!tar xf spark-2.4.8-bin-hadoop2.7.tgz\n",
        "!pip install -q findspark"
      ],
      "execution_count": 3,
      "outputs": []
    },
    {
      "cell_type": "code",
      "metadata": {
        "id": "SoqEGmrk_vDn"
      },
      "source": [
        "\n",
        "import os\n",
        "os.environ[\"JAVA_HOME\"] = \"/usr/lib/jvm/java-1.8.0-openjdk-amd64\"\n",
        "os.environ[\"SPARK_HOME\"] = \"/content/spark-2.4.8-bin-hadoop2.7\""
      ],
      "execution_count": 4,
      "outputs": []
    },
    {
      "cell_type": "code",
      "metadata": {
        "id": "yRJQrOiy_2uG"
      },
      "source": [
        "import findspark\n",
        "findspark.init()"
      ],
      "execution_count": 5,
      "outputs": []
    },
    {
      "cell_type": "code",
      "metadata": {
        "id": "ElW6LW0r_5Df"
      },
      "source": [
        "import pyspark\n",
        "sc = pyspark.SparkContext('local[*]')"
      ],
      "execution_count": 6,
      "outputs": []
    },
    {
      "cell_type": "markdown",
      "metadata": {
        "id": "0eUsILpB_ZS3"
      },
      "source": [
        "# Machine Learning with Spark\n",
        "\n",
        "## Introduction\n",
        "\n",
        "You've now explored how to perform operations on Spark RDDs for simple MapReduce tasks. Luckily, there are far more advanced use cases for Spark, and many of them are found in the `ml` library, which we are going to explore in this lesson.\n",
        "\n",
        "\n",
        "## Objectives\n",
        "\n",
        "You will be able to: \n",
        "\n",
        "- Load and manipulate data using Spark DataFrames  \n",
        "- Define estimators and transformers in Spark ML \n",
        "- Create a Spark ML pipeline that transforms data and runs over a grid of hyperparameters \n",
        "\n",
        "\n",
        "\n",
        "## A Tale of Two Libraries\n",
        "\n",
        "If you look at the PySpark documentation, you'll notice that there are two different libraries for machine learning, [mllib](https://spark.apache.org/docs/latest/api/python/pyspark.mllib.html) and [ml](https://spark.apache.org/docs/latest/api/python/pyspark.ml.html). These libraries are extremely similar to one another, the only difference being that the `mllib` library is built upon the RDDs you just practiced using; whereas, the `ml` library is built on higher level Spark DataFrames, which has methods and attributes similar to pandas. Spark has stated that in the future, it is going to devote more effort to the `ml` library and that `mllib` will become deprecated. It's important to note that these libraries are much younger than pandas and scikit-learn and there are not as many features present in either.\n",
        "\n",
        "## Spark DataFrames\n",
        "\n",
        "In the previous lessons, you were introduced to SparkContext as the primary way to connect with a Spark Application. Here, we will be using SparkSession, which is from the [sql](https://spark.apache.org/docs/latest/api/python/pyspark.sql.html) component of PySpark. The SparkSession acts the same way as SparkContext; it is a bridge between Python and the Spark Application. It's just built on top of the Spark SQL API, a higher-level API than RDDs. In fact, a SparkContext object is spun up around which the SparkSession object is wrapped. Let's go through the process of manipulating some data here. For this example, we're going to be using the [Forest Fire dataset](https://archive.ics.uci.edu/ml/datasets/Forest+Fires) from UCI, which contains data about the area burned by wildfires in the Northeast region of Portugal in relation to numerous other factors.\n",
        "\n",
        "To begin with, let's create a SparkSession so that we can spin up our spark application. "
      ]
    },
    {
      "cell_type": "code",
      "metadata": {
        "id": "vT9ykt1x_ZS8"
      },
      "source": [
        "# importing the necessary libraries\n",
        "from pyspark import SparkContext\n",
        "from pyspark.sql import SparkSession\n",
        "# sc = SparkContext('local[*]')\n",
        "# spark = SparkSession(sc)"
      ],
      "execution_count": 7,
      "outputs": []
    },
    {
      "cell_type": "markdown",
      "metadata": {
        "id": "eQdMiNWG_ZS9"
      },
      "source": [
        "To create a SparkSession: "
      ]
    },
    {
      "cell_type": "code",
      "metadata": {
        "id": "-c1AYzRS_ZS9"
      },
      "source": [
        "spark = SparkSession.builder.master('local').getOrCreate()"
      ],
      "execution_count": 8,
      "outputs": []
    },
    {
      "cell_type": "markdown",
      "metadata": {
        "id": "kAunr6x__ZS9"
      },
      "source": [
        "Now, we'll load the data into a PySpark DataFrame: "
      ]
    },
    {
      "cell_type": "code",
      "metadata": {
        "colab": {
          "base_uri": "https://localhost:8080/"
        },
        "id": "80fM8CGE_ZS9",
        "outputId": "19320c63-bed9-4e88-dd11-408a1d762edf"
      },
      "source": [
        "## reading in pyspark df\n",
        "spark_df = spark.read.csv('./forestfires.csv', header='true', inferSchema='true')\n",
        "\n",
        "## observing the datatype of df\n",
        "type(spark_df)"
      ],
      "execution_count": 9,
      "outputs": [
        {
          "output_type": "execute_result",
          "data": {
            "text/plain": [
              "pyspark.sql.dataframe.DataFrame"
            ]
          },
          "metadata": {
            "tags": []
          },
          "execution_count": 9
        }
      ]
    },
    {
      "cell_type": "markdown",
      "metadata": {
        "id": "RZyYifcA_ZS-"
      },
      "source": [
        "You'll notice that some of the methods are extremely similar or the same as those found within Pandas."
      ]
    },
    {
      "cell_type": "code",
      "metadata": {
        "colab": {
          "base_uri": "https://localhost:8080/"
        },
        "id": "c5xpxIEr_ZS-",
        "outputId": "082efe88-b8e0-4552-da18-731214cbc98e"
      },
      "source": [
        "spark_df.head()"
      ],
      "execution_count": 10,
      "outputs": [
        {
          "output_type": "execute_result",
          "data": {
            "text/plain": [
              "Row(X=7, Y=5, month='mar', day='fri', FFMC=86.2, DMC=26.2, DC=94.3, ISI=5.1, temp=8.2, RH=51, wind=6.7, rain=0.0, area=0.0)"
            ]
          },
          "metadata": {
            "tags": []
          },
          "execution_count": 10
        }
      ]
    },
    {
      "cell_type": "code",
      "metadata": {
        "colab": {
          "base_uri": "https://localhost:8080/"
        },
        "id": "EkOnhuHs_ZS-",
        "outputId": "25aadf79-5f83-49d7-ab01-f9a69d9ee24f"
      },
      "source": [
        "spark_df.columns"
      ],
      "execution_count": 11,
      "outputs": [
        {
          "output_type": "execute_result",
          "data": {
            "text/plain": [
              "['X',\n",
              " 'Y',\n",
              " 'month',\n",
              " 'day',\n",
              " 'FFMC',\n",
              " 'DMC',\n",
              " 'DC',\n",
              " 'ISI',\n",
              " 'temp',\n",
              " 'RH',\n",
              " 'wind',\n",
              " 'rain',\n",
              " 'area']"
            ]
          },
          "metadata": {
            "tags": []
          },
          "execution_count": 11
        }
      ]
    },
    {
      "cell_type": "markdown",
      "metadata": {
        "id": "ry0QIdgI_ZS_"
      },
      "source": [
        "Selecting multiple columns is similar as well: "
      ]
    },
    {
      "cell_type": "code",
      "metadata": {
        "colab": {
          "base_uri": "https://localhost:8080/"
        },
        "id": "SDkV3UlC_ZS_",
        "outputId": "62994607-8bb3-416a-e2e1-2577a7e3748a"
      },
      "source": [
        "spark_df[['month','day','rain']]"
      ],
      "execution_count": 12,
      "outputs": [
        {
          "output_type": "execute_result",
          "data": {
            "text/plain": [
              "DataFrame[month: string, day: string, rain: double]"
            ]
          },
          "metadata": {
            "tags": []
          },
          "execution_count": 12
        }
      ]
    },
    {
      "cell_type": "markdown",
      "metadata": {
        "id": "0a2TPh7M_ZTA"
      },
      "source": [
        "But selecting one column is different. If you want to maintain the methods of a spark DataFrame, you should use the `.select()` method. If you want to just select the column, you can use the same method you would use in pandas (this is primarily what you would use if you're attempting to create a boolean mask). "
      ]
    },
    {
      "cell_type": "code",
      "metadata": {
        "scrolled": true,
        "id": "0MZT1rid_ZTA"
      },
      "source": [
        "d = spark_df.select('rain')"
      ],
      "execution_count": 13,
      "outputs": []
    },
    {
      "cell_type": "code",
      "metadata": {
        "colab": {
          "base_uri": "https://localhost:8080/"
        },
        "id": "j4rrhRzC_ZTA",
        "outputId": "0391ea74-52cc-4d0d-9d6d-1246a26269c6"
      },
      "source": [
        "spark_df['rain']"
      ],
      "execution_count": 14,
      "outputs": [
        {
          "output_type": "execute_result",
          "data": {
            "text/plain": [
              "Column<b'rain'>"
            ]
          },
          "metadata": {
            "tags": []
          },
          "execution_count": 14
        }
      ]
    },
    {
      "cell_type": "markdown",
      "metadata": {
        "id": "R2Hu-R4E_ZTB"
      },
      "source": [
        "Let's take a look at all of our data types in this dataframe"
      ]
    },
    {
      "cell_type": "code",
      "metadata": {
        "colab": {
          "base_uri": "https://localhost:8080/"
        },
        "id": "uhjEChki_ZTB",
        "outputId": "64dd845d-da10-4fea-e60a-6226b125c730"
      },
      "source": [
        "spark_df.dtypes"
      ],
      "execution_count": 15,
      "outputs": [
        {
          "output_type": "execute_result",
          "data": {
            "text/plain": [
              "[('X', 'int'),\n",
              " ('Y', 'int'),\n",
              " ('month', 'string'),\n",
              " ('day', 'string'),\n",
              " ('FFMC', 'double'),\n",
              " ('DMC', 'double'),\n",
              " ('DC', 'double'),\n",
              " ('ISI', 'double'),\n",
              " ('temp', 'double'),\n",
              " ('RH', 'int'),\n",
              " ('wind', 'double'),\n",
              " ('rain', 'double'),\n",
              " ('area', 'double')]"
            ]
          },
          "metadata": {
            "tags": []
          },
          "execution_count": 15
        }
      ]
    },
    {
      "cell_type": "markdown",
      "metadata": {
        "id": "W5XptAMc_ZTB"
      },
      "source": [
        "## Aggregations with our DataFrame"
      ]
    },
    {
      "cell_type": "markdown",
      "metadata": {
        "id": "L2olo47o_ZTB"
      },
      "source": [
        "Let's investigate to see if there is any correlation between what month it is and the area of fire: "
      ]
    },
    {
      "cell_type": "code",
      "metadata": {
        "colab": {
          "base_uri": "https://localhost:8080/"
        },
        "id": "u77jTKyf_ZTB",
        "outputId": "51af8c9e-5ae0-429b-a6dd-da9b5f040aa8"
      },
      "source": [
        "spark_df_months = spark_df.groupBy('month').agg({'area': 'mean'})\n",
        "spark_df_months"
      ],
      "execution_count": 16,
      "outputs": [
        {
          "output_type": "execute_result",
          "data": {
            "text/plain": [
              "DataFrame[month: string, avg(area): double]"
            ]
          },
          "metadata": {
            "tags": []
          },
          "execution_count": 16
        }
      ]
    },
    {
      "cell_type": "markdown",
      "metadata": {
        "id": "8gCuAQa3_ZTC"
      },
      "source": [
        "Notice how the grouped DataFrame is not returned when you call the aggregation method. Remember, this is still Spark! The transformations and actions are kept separate so that it is easier to manage large quantities of data. You can perform the transformation by calling `.collect()`: "
      ]
    },
    {
      "cell_type": "code",
      "metadata": {
        "colab": {
          "base_uri": "https://localhost:8080/"
        },
        "id": "G_XpyDy6_ZTC",
        "outputId": "f1c264e5-be63-4bc1-d979-c7a489d27893"
      },
      "source": [
        "spark_df_months.collect()"
      ],
      "execution_count": 17,
      "outputs": [
        {
          "output_type": "execute_result",
          "data": {
            "text/plain": [
              "[Row(month='jun', avg(area)=5.841176470588234),\n",
              " Row(month='aug', avg(area)=12.489076086956521),\n",
              " Row(month='may', avg(area)=19.24),\n",
              " Row(month='feb', avg(area)=6.275),\n",
              " Row(month='sep', avg(area)=17.942616279069753),\n",
              " Row(month='mar', avg(area)=4.356666666666667),\n",
              " Row(month='oct', avg(area)=6.638),\n",
              " Row(month='jul', avg(area)=14.3696875),\n",
              " Row(month='nov', avg(area)=0.0),\n",
              " Row(month='apr', avg(area)=8.891111111111112),\n",
              " Row(month='dec', avg(area)=13.33),\n",
              " Row(month='jan', avg(area)=0.0)]"
            ]
          },
          "metadata": {
            "tags": []
          },
          "execution_count": 17
        }
      ]
    },
    {
      "cell_type": "markdown",
      "metadata": {
        "id": "QBGN8Sa__ZTC"
      },
      "source": [
        "As you can see, there seem to be larger area fires during what would be considered the summer months in Portugal. On your own, practice more aggregations and manipulations that you might be able to perform on this dataset. "
      ]
    },
    {
      "cell_type": "markdown",
      "metadata": {
        "id": "YdnGYLKg_ZTC"
      },
      "source": [
        "## Boolean Masking \n",
        "\n",
        "Boolean masking also works with PySpark DataFrames just like Pandas DataFrames, the only difference being that the `.filter()` method is used in PySpark. To try this out, let's compare the amount of fire in those areas with absolutely no rain to those areas that had rain."
      ]
    },
    {
      "cell_type": "code",
      "metadata": {
        "id": "tUvmilLE_ZTC"
      },
      "source": [
        "no_rain = spark_df.filter(spark_df['rain'] == 0.0)\n",
        "some_rain = spark_df.filter(spark_df['rain'] > 0.0)"
      ],
      "execution_count": 18,
      "outputs": []
    },
    {
      "cell_type": "markdown",
      "metadata": {
        "id": "ardnu9tf_ZTD"
      },
      "source": [
        "Now, to perform calculations to find the mean of a column, we'll have to import functions from `pyspark.sql`. As always, to read more about them, check out the [documentation](https://spark.apache.org/docs/latest/api/python/pyspark.sql.html#module-pyspark.sql.functions)."
      ]
    },
    {
      "cell_type": "code",
      "metadata": {
        "colab": {
          "base_uri": "https://localhost:8080/"
        },
        "id": "zc6uH2xQ_ZTD",
        "outputId": "38d55ed1-8ddd-444f-8738-de7b42e0da8b"
      },
      "source": [
        "from pyspark.sql.functions import mean\n",
        "\n",
        "print('no rain fire area: ', no_rain.select(mean('area')).show(),'\\n')\n",
        "\n",
        "print('some rain fire area: ', some_rain.select(mean('area')).show(),'\\n')"
      ],
      "execution_count": 19,
      "outputs": [
        {
          "output_type": "stream",
          "text": [
            "+------------------+\n",
            "|         avg(area)|\n",
            "+------------------+\n",
            "|13.023693516699408|\n",
            "+------------------+\n",
            "\n",
            "no rain fire area:  None \n",
            "\n",
            "+---------+\n",
            "|avg(area)|\n",
            "+---------+\n",
            "|  1.62375|\n",
            "+---------+\n",
            "\n",
            "some rain fire area:  None \n",
            "\n"
          ],
          "name": "stdout"
        }
      ]
    },
    {
      "cell_type": "markdown",
      "metadata": {
        "id": "GuOsOmPb_ZTD"
      },
      "source": [
        "Yes there's definitely something there! Unsurprisingly, rain plays in a big factor in the spread of wildfire.\n",
        "\n",
        "Let's obtain data from only the summer months in Portugal (June, July, and August). We can also do the same for the winter months in Portugal (December, January, February)."
      ]
    },
    {
      "cell_type": "code",
      "metadata": {
        "colab": {
          "base_uri": "https://localhost:8080/"
        },
        "id": "GbZFfK5K_ZTD",
        "outputId": "cfe51bf4-a0ba-464b-8c17-189553af4053"
      },
      "source": [
        "summer_months = spark_df.filter(spark_df['month'].isin(['jun','jul','aug']))\n",
        "winter_months = spark_df.filter(spark_df['month'].isin(['dec','jan','feb']))\n",
        "\n",
        "print('summer months fire area', summer_months.select(mean('area')).show())\n",
        "print('winter months fire areas', winter_months.select(mean('area')).show())"
      ],
      "execution_count": 20,
      "outputs": [
        {
          "output_type": "stream",
          "text": [
            "+------------------+\n",
            "|         avg(area)|\n",
            "+------------------+\n",
            "|12.262317596566525|\n",
            "+------------------+\n",
            "\n",
            "summer months fire area None\n",
            "+-----------------+\n",
            "|        avg(area)|\n",
            "+-----------------+\n",
            "|7.918387096774193|\n",
            "+-----------------+\n",
            "\n",
            "winter months fire areas None\n"
          ],
          "name": "stdout"
        }
      ]
    },
    {
      "cell_type": "markdown",
      "metadata": {
        "id": "qfffTjEe_ZTE"
      },
      "source": [
        "## Machine Learning\n",
        "\n",
        "Now that we've performed some data manipulation and aggregation, lets get to the really cool stuff, machine learning! PySpark states that they've used scikit-learn as an inspiration for their implementation of a machine learning library. As a result, many of the methods and functionalities look similar, but there are some crucial distinctions. There are three main concepts found within the ML library:\n",
        "\n",
        "`Transformer`: An algorithm that transforms one PySpark DataFrame into another DataFrame. \n",
        "\n",
        "`Estimator`: An algorithm that can be fit onto a PySpark DataFrame that can then be used as a Transformer. \n",
        "\n",
        "`Pipeline`: A pipeline very similar to an `sklearn` pipeline that chains together different actions.\n",
        "\n",
        "The reasoning behind this separation of the fitting and transforming step is because Spark is lazily evaluated, so the 'fitting' of a model does not actually take place until the Transformation action is called. Let's examine what this actually looks like by performing a regression on the Forest Fire dataset. To start off with, we'll import the necessary libraries for our tasks."
      ]
    },
    {
      "cell_type": "code",
      "metadata": {
        "id": "dOTFlA_D_ZTE"
      },
      "source": [
        "from pyspark.ml.regression import RandomForestRegressor\n",
        "from pyspark.ml import feature\n",
        "from pyspark.ml.feature import StringIndexer, VectorAssembler, OneHotEncoderEstimator"
      ],
      "execution_count": 21,
      "outputs": []
    },
    {
      "cell_type": "markdown",
      "metadata": {
        "id": "1IXo0pOs_ZTE"
      },
      "source": [
        "Looking at our data, one can see that all the categories are numerical except for day and month. We saw some correlation between the month and area burned in a fire, so we will include that in our model. The day of the week, however, is highly unlikely to have any effect on fire, so we will drop it from the DataFrame."
      ]
    },
    {
      "cell_type": "code",
      "metadata": {
        "colab": {
          "base_uri": "https://localhost:8080/"
        },
        "id": "mLw7snFG_ZTE",
        "outputId": "71dd6a81-9910-4d75-84b0-43f974dc4747"
      },
      "source": [
        "fire_df = spark_df.drop('day')\n",
        "fire_df.head()"
      ],
      "execution_count": 22,
      "outputs": [
        {
          "output_type": "execute_result",
          "data": {
            "text/plain": [
              "Row(X=7, Y=5, month='mar', FFMC=86.2, DMC=26.2, DC=94.3, ISI=5.1, temp=8.2, RH=51, wind=6.7, rain=0.0, area=0.0)"
            ]
          },
          "metadata": {
            "tags": []
          },
          "execution_count": 22
        }
      ]
    },
    {
      "cell_type": "markdown",
      "metadata": {
        "id": "09t_oh_t_ZTE"
      },
      "source": [
        "In order for us to run our model, we need to turn the months variable into a dummy variable. In `ml` this is a 2-step process that first requires turning the categorical variable into a numerical index (`StringIndexer`). Only after the variable is an integer can PySpark create dummy variable columns related to each category (`OneHotEncoderEstimator`). Your key parameters when using these `ml` estimators are: `inputCol` (the column you want to change) and `outputCol` (where you will store the changed column). Here it is in action: "
      ]
    },
    {
      "cell_type": "code",
      "metadata": {
        "id": "OaJtjEe8_ZTF"
      },
      "source": [
        "si = StringIndexer(inputCol='month', outputCol='month_num')\n",
        "model = si.fit(fire_df)\n",
        "new_df = model.transform(fire_df)"
      ],
      "execution_count": 23,
      "outputs": []
    },
    {
      "cell_type": "markdown",
      "metadata": {
        "id": "BTu8VXiJ_ZTF"
      },
      "source": [
        "Note the small, but critical distinction between `sklearn`'s implementation of a transformer and PySpark's implementation. `sklearn` is more object oriented and Spark is more functional oriented."
      ]
    },
    {
      "cell_type": "code",
      "metadata": {
        "colab": {
          "base_uri": "https://localhost:8080/"
        },
        "id": "qBi0fGAK_ZTF",
        "outputId": "785394fa-bdd4-4596-da6e-1602c3718128"
      },
      "source": [
        "## this is an estimator (an untrained transformer)\n",
        "type(si)"
      ],
      "execution_count": 24,
      "outputs": [
        {
          "output_type": "execute_result",
          "data": {
            "text/plain": [
              "pyspark.ml.feature.StringIndexer"
            ]
          },
          "metadata": {
            "tags": []
          },
          "execution_count": 24
        }
      ]
    },
    {
      "cell_type": "code",
      "metadata": {
        "colab": {
          "base_uri": "https://localhost:8080/"
        },
        "id": "Xw4S9W2G_ZTF",
        "outputId": "bf00efa3-5766-4373-a7e3-6a85bd230cb7"
      },
      "source": [
        "## this is a transformer (a trained transformer)\n",
        "type(model)"
      ],
      "execution_count": 25,
      "outputs": [
        {
          "output_type": "execute_result",
          "data": {
            "text/plain": [
              "pyspark.ml.feature.StringIndexerModel"
            ]
          },
          "metadata": {
            "tags": []
          },
          "execution_count": 25
        }
      ]
    },
    {
      "cell_type": "code",
      "metadata": {
        "colab": {
          "base_uri": "https://localhost:8080/"
        },
        "id": "fjBONnIz_ZTF",
        "outputId": "876c2c3d-da22-4cfc-d255-0a57bc3e117c"
      },
      "source": [
        "model.labels"
      ],
      "execution_count": 26,
      "outputs": [
        {
          "output_type": "execute_result",
          "data": {
            "text/plain": [
              "['aug',\n",
              " 'sep',\n",
              " 'mar',\n",
              " 'jul',\n",
              " 'feb',\n",
              " 'jun',\n",
              " 'oct',\n",
              " 'apr',\n",
              " 'dec',\n",
              " 'jan',\n",
              " 'may',\n",
              " 'nov']"
            ]
          },
          "metadata": {
            "tags": []
          },
          "execution_count": 26
        }
      ]
    },
    {
      "cell_type": "code",
      "metadata": {
        "colab": {
          "base_uri": "https://localhost:8080/"
        },
        "id": "CG-1ku9Q_ZTF",
        "outputId": "e28f310c-0282-4694-de8e-e68252cbe55b"
      },
      "source": [
        "new_df.head(4)"
      ],
      "execution_count": 27,
      "outputs": [
        {
          "output_type": "execute_result",
          "data": {
            "text/plain": [
              "[Row(X=7, Y=5, month='mar', FFMC=86.2, DMC=26.2, DC=94.3, ISI=5.1, temp=8.2, RH=51, wind=6.7, rain=0.0, area=0.0, month_num=2.0),\n",
              " Row(X=7, Y=4, month='oct', FFMC=90.6, DMC=35.4, DC=669.1, ISI=6.7, temp=18.0, RH=33, wind=0.9, rain=0.0, area=0.0, month_num=6.0),\n",
              " Row(X=7, Y=4, month='oct', FFMC=90.6, DMC=43.7, DC=686.9, ISI=6.7, temp=14.6, RH=33, wind=1.3, rain=0.0, area=0.0, month_num=6.0),\n",
              " Row(X=8, Y=6, month='mar', FFMC=91.7, DMC=33.3, DC=77.5, ISI=9.0, temp=8.3, RH=97, wind=4.0, rain=0.2, area=0.0, month_num=2.0)]"
            ]
          },
          "metadata": {
            "tags": []
          },
          "execution_count": 27
        }
      ]
    },
    {
      "cell_type": "markdown",
      "metadata": {
        "id": "9KQ_YlhX_ZTG"
      },
      "source": [
        "As you can see, we have created a new column called `'month_num'` that represents the month by a number. Now that we have performed this step, we can use Spark's version of `OneHotEncoder()` - `OneHotEncoderEstimator()`. Let's make sure we have an accurate representation of the months."
      ]
    },
    {
      "cell_type": "code",
      "metadata": {
        "colab": {
          "base_uri": "https://localhost:8080/"
        },
        "id": "4ESu_Nli_ZTG",
        "outputId": "caa69236-8757-47d6-88fc-cfbbda26bb7d"
      },
      "source": [
        "new_df.select('month_num').distinct().collect()"
      ],
      "execution_count": 28,
      "outputs": [
        {
          "output_type": "execute_result",
          "data": {
            "text/plain": [
              "[Row(month_num=8.0),\n",
              " Row(month_num=0.0),\n",
              " Row(month_num=7.0),\n",
              " Row(month_num=1.0),\n",
              " Row(month_num=4.0),\n",
              " Row(month_num=11.0),\n",
              " Row(month_num=3.0),\n",
              " Row(month_num=2.0),\n",
              " Row(month_num=10.0),\n",
              " Row(month_num=6.0),\n",
              " Row(month_num=5.0),\n",
              " Row(month_num=9.0)]"
            ]
          },
          "metadata": {
            "tags": []
          },
          "execution_count": 28
        }
      ]
    },
    {
      "cell_type": "code",
      "metadata": {
        "colab": {
          "base_uri": "https://localhost:8080/"
        },
        "id": "xMXUypfB_ZTG",
        "outputId": "b329323d-744f-40b7-e1ef-355fbdad3641"
      },
      "source": [
        "## fitting and transforming the OneHotEncoderEstimator\n",
        "ohe = feature.OneHotEncoderEstimator(inputCols=['month_num'], outputCols=['month_vec'], dropLast=True)\n",
        "one_hot_encoded = ohe.fit(new_df).transform(new_df)\n",
        "one_hot_encoded.head()"
      ],
      "execution_count": 29,
      "outputs": [
        {
          "output_type": "execute_result",
          "data": {
            "text/plain": [
              "Row(X=7, Y=5, month='mar', FFMC=86.2, DMC=26.2, DC=94.3, ISI=5.1, temp=8.2, RH=51, wind=6.7, rain=0.0, area=0.0, month_num=2.0, month_vec=SparseVector(11, {2: 1.0}))"
            ]
          },
          "metadata": {
            "tags": []
          },
          "execution_count": 29
        }
      ]
    },
    {
      "cell_type": "markdown",
      "metadata": {
        "id": "KyGwK8k5_ZTG"
      },
      "source": [
        "Great, we now have a OneHotEncoded sparse vector in the `'month_vec'` column! Because Spark is optimized for big data, sparse vectors are used rather than entirely new columns for dummy variables because it is more space efficient. You can see in this first row of the DataFrame:  \n",
        "\n",
        "`month_vec=SparseVector(11, {2: 1.0})` this indicates that we have a sparse vector of size 11 (because of the parameter `dropLast = True` in `OneHotEncoderEstimator()`) and this particular data point is the 2nd index of our month labels (march, based off the labels in the `model` StringEstimator transformer).  \n",
        "\n",
        "The final requirement for all machine learning models in PySpark is to put all of the features of your model into one sparse vector. This is once again for efficiency sake. Here, we are doing that with the `VectorAssembler()` estimator."
      ]
    },
    {
      "cell_type": "code",
      "metadata": {
        "id": "1IalRArU_ZTG"
      },
      "source": [
        "features = ['X',\n",
        " 'Y',\n",
        " 'FFMC',\n",
        " 'DMC',\n",
        " 'DC',\n",
        " 'ISI',\n",
        " 'temp',\n",
        " 'RH',\n",
        " 'wind',\n",
        " 'rain',\n",
        " 'month_vec']\n",
        "\n",
        "target = 'area'\n",
        "\n",
        "vector = VectorAssembler(inputCols=features, outputCol='features')\n",
        "vectorized_df = vector.transform(one_hot_encoded)"
      ],
      "execution_count": 30,
      "outputs": []
    },
    {
      "cell_type": "code",
      "metadata": {
        "colab": {
          "base_uri": "https://localhost:8080/"
        },
        "id": "v4K7IQ22_ZTH",
        "outputId": "6a11aff6-25a0-46dc-c1d5-4b6fc3e831b6"
      },
      "source": [
        "vectorized_df.head()"
      ],
      "execution_count": 31,
      "outputs": [
        {
          "output_type": "execute_result",
          "data": {
            "text/plain": [
              "Row(X=7, Y=5, month='mar', FFMC=86.2, DMC=26.2, DC=94.3, ISI=5.1, temp=8.2, RH=51, wind=6.7, rain=0.0, area=0.0, month_num=2.0, month_vec=SparseVector(11, {2: 1.0}), features=SparseVector(21, {0: 7.0, 1: 5.0, 2: 86.2, 3: 26.2, 4: 94.3, 5: 5.1, 6: 8.2, 7: 51.0, 8: 6.7, 12: 1.0}))"
            ]
          },
          "metadata": {
            "tags": []
          },
          "execution_count": 31
        }
      ]
    },
    {
      "cell_type": "markdown",
      "metadata": {
        "id": "AB3oSAR1_ZTH"
      },
      "source": [
        "Great! We now have our data in a format that seems acceptable for the last step. It's time for us to actually fit our model to data! Let's fit a Random Forest Regression model to our data. Although there are still a bunch of other features in the DataFrame, it doesn't matter for the machine learning model API. All that needs to be specified are the names of the features column and the label column. "
      ]
    },
    {
      "cell_type": "code",
      "metadata": {
        "id": "ksRugy_-_ZTH"
      },
      "source": [
        "## instantiating and fitting the model\n",
        "rf_model = RandomForestRegressor(featuresCol='features', \n",
        "                                 labelCol='area', predictionCol='prediction').fit(vectorized_df)"
      ],
      "execution_count": 32,
      "outputs": []
    },
    {
      "cell_type": "code",
      "metadata": {
        "colab": {
          "base_uri": "https://localhost:8080/"
        },
        "id": "Q9izNBeZ_ZTH",
        "outputId": "282ed1f2-b036-4fee-c8bb-3214ac75e8ff"
      },
      "source": [
        "rf_model.featureImportances"
      ],
      "execution_count": 33,
      "outputs": [
        {
          "output_type": "execute_result",
          "data": {
            "text/plain": [
              "SparseVector(21, {0: 0.0732, 1: 0.0645, 2: 0.1468, 3: 0.075, 4: 0.0977, 5: 0.1175, 6: 0.1242, 7: 0.1322, 8: 0.093, 10: 0.0256, 11: 0.0274, 12: 0.0, 13: 0.0169, 14: 0.0007, 15: 0.0016, 16: 0.0, 17: 0.0023, 18: 0.0004, 20: 0.0011})"
            ]
          },
          "metadata": {
            "tags": []
          },
          "execution_count": 33
        }
      ]
    },
    {
      "cell_type": "code",
      "metadata": {
        "colab": {
          "base_uri": "https://localhost:8080/"
        },
        "id": "wIAg3-74_ZTH",
        "outputId": "33e702a8-274b-48c6-c8b7-e53b70534a13"
      },
      "source": [
        "## generating predictions\n",
        "predictions = rf_model.transform(vectorized_df).select('area', 'prediction')\n",
        "predictions.head(10)"
      ],
      "execution_count": 34,
      "outputs": [
        {
          "output_type": "execute_result",
          "data": {
            "text/plain": [
              "[Row(area=0.0, prediction=7.133306370086468),\n",
              " Row(area=0.0, prediction=5.508918374656079),\n",
              " Row(area=0.0, prediction=5.929329723157744),\n",
              " Row(area=0.0, prediction=7.018048152279145),\n",
              " Row(area=0.0, prediction=5.735753047774471),\n",
              " Row(area=0.0, prediction=9.4640138908353),\n",
              " Row(area=0.0, prediction=5.009241613952943),\n",
              " Row(area=0.0, prediction=22.56918471023069),\n",
              " Row(area=0.0, prediction=9.606538757443271),\n",
              " Row(area=0.0, prediction=59.32868573302411)]"
            ]
          },
          "metadata": {
            "tags": []
          },
          "execution_count": 34
        }
      ]
    },
    {
      "cell_type": "markdown",
      "metadata": {
        "id": "bp6OvQQK_ZTH"
      },
      "source": [
        "Now we can evaluate how well the model performed using `RegressionEvaluator`."
      ]
    },
    {
      "cell_type": "code",
      "metadata": {
        "id": "5vZYVaan_ZTI"
      },
      "source": [
        "from pyspark.ml.evaluation import RegressionEvaluator\n",
        "evaluator = RegressionEvaluator(predictionCol='prediction', labelCol='area')"
      ],
      "execution_count": 35,
      "outputs": []
    },
    {
      "cell_type": "code",
      "metadata": {
        "colab": {
          "base_uri": "https://localhost:8080/"
        },
        "id": "yT71qRn-_ZTI",
        "outputId": "01805277-6d04-409d-9bb4-d18af200dbec"
      },
      "source": [
        "## evaluating r^2\n",
        "evaluator.evaluate(predictions,{evaluator.metricName: 'r2'})"
      ],
      "execution_count": 36,
      "outputs": [
        {
          "output_type": "execute_result",
          "data": {
            "text/plain": [
              "0.7202143679529314"
            ]
          },
          "metadata": {
            "tags": []
          },
          "execution_count": 36
        }
      ]
    },
    {
      "cell_type": "code",
      "metadata": {
        "colab": {
          "base_uri": "https://localhost:8080/"
        },
        "id": "JlNMnBA-_ZTI",
        "outputId": "a141c4d0-0be2-4f85-fe86-a4b1b73fbf88"
      },
      "source": [
        "## evaluating mean absolute error\n",
        "evaluator.evaluate(predictions,{evaluator.metricName: 'mae'})"
      ],
      "execution_count": 37,
      "outputs": [
        {
          "output_type": "execute_result",
          "data": {
            "text/plain": [
              "14.244177323896096"
            ]
          },
          "metadata": {
            "tags": []
          },
          "execution_count": 37
        }
      ]
    },
    {
      "cell_type": "markdown",
      "metadata": {
        "id": "CasxPibo_ZTI"
      },
      "source": [
        "## Putting it all in a Pipeline\n",
        "\n",
        "We just performed a whole lot of transformations to our data. Let's take a look at all the estimators we used to create this model:\n",
        "\n",
        "* `StringIndexer()` \n",
        "* `OneHotEnconderEstimator()` \n",
        "* `VectorAssembler()` \n",
        "* `RandomForestRegressor()` \n",
        "\n",
        "Once we've fit our model in the Pipeline, we're then going to want to evaluate it to determine how well it performs. We can do this with:\n",
        "\n",
        "* `RegressionEvaluator()` \n",
        "\n",
        "We can streamline all of these transformations to make it much more efficient by chaining them together in a pipeline. The Pipeline object expects a list of the estimators prior set to the parameter `stages`."
      ]
    },
    {
      "cell_type": "code",
      "metadata": {
        "id": "N7bf1E3O_ZTI"
      },
      "source": [
        "# importing relevant libraries\n",
        "from pyspark.ml.tuning import ParamGridBuilder, TrainValidationSplit, CrossValidator\n",
        "from pyspark.ml import Pipeline"
      ],
      "execution_count": 38,
      "outputs": []
    },
    {
      "cell_type": "code",
      "metadata": {
        "id": "wG3j165I_ZTI"
      },
      "source": [
        "## instantiating all necessary estimator objects\n",
        "\n",
        "string_indexer = StringIndexer(inputCol='month', outputCol='month_num', handleInvalid='keep')\n",
        "one_hot_encoder = OneHotEncoderEstimator(inputCols=['month_num'], outputCols=['month_vec'], dropLast=True)\n",
        "vector_assember = VectorAssembler(inputCols=features, outputCol='features')\n",
        "random_forest = RandomForestRegressor(featuresCol='features', labelCol='area')\n",
        "stages = [string_indexer, one_hot_encoder, vector_assember, random_forest]\n",
        "\n",
        "# instantiating the pipeline with all them estimator objects\n",
        "pipeline = Pipeline(stages=stages)"
      ],
      "execution_count": 39,
      "outputs": []
    },
    {
      "cell_type": "markdown",
      "metadata": {
        "id": "kgMmeiVj_ZTJ"
      },
      "source": [
        "### Cross-validation \n",
        "\n",
        "You might have missed a critical step in the random forest regression above; we did not cross validate or perform a train/test split! Now we're going to fix that by performing cross-validation and also testing out multiple different combinations of parameters in PySpark's `GridSearch()` equivalent. To begin with, we will create a parameter grid that contains the different parameters we want to use in our model."
      ]
    },
    {
      "cell_type": "code",
      "metadata": {
        "id": "C1H2fCby_ZTJ"
      },
      "source": [
        "# creating parameter grid\n",
        "\n",
        "params = ParamGridBuilder().addGrid(random_forest.maxDepth, [5, 10, 15]).addGrid(random_forest.numTrees, [20 ,50, 100]).build()"
      ],
      "execution_count": 49,
      "outputs": []
    },
    {
      "cell_type": "markdown",
      "metadata": {
        "id": "qFeWcKYV_ZTJ"
      },
      "source": [
        "Let's take a look at the params variable we just built."
      ]
    },
    {
      "cell_type": "code",
      "metadata": {
        "colab": {
          "base_uri": "https://localhost:8080/"
        },
        "id": "XYIOgbQn_ZTJ",
        "outputId": "3432e4b4-895e-441e-9dd0-895ea1f32bf0"
      },
      "source": [
        "print('total combinations of parameters: ', len(params))\n",
        "\n",
        "params[0]"
      ],
      "execution_count": 50,
      "outputs": [
        {
          "output_type": "stream",
          "text": [
            "total combinations of parameters:  9\n"
          ],
          "name": "stdout"
        },
        {
          "output_type": "execute_result",
          "data": {
            "text/plain": [
              "{Param(parent='RandomForestRegressor_2f889a3b24eb', name='maxDepth', doc='Maximum depth of the tree. (>= 0) E.g., depth 0 means 1 leaf node; depth 1 means 1 internal node + 2 leaf nodes.'): 5,\n",
              " Param(parent='RandomForestRegressor_2f889a3b24eb', name='numTrees', doc='Number of trees to train (>= 1).'): 20}"
            ]
          },
          "metadata": {
            "tags": []
          },
          "execution_count": 50
        }
      ]
    },
    {
      "cell_type": "markdown",
      "metadata": {
        "id": "A3-XbdId_ZTJ"
      },
      "source": [
        "Now it's time to combine all the steps we've created to work in a single line of code with the `CrossValidator()` estimator."
      ]
    },
    {
      "cell_type": "code",
      "metadata": {
        "id": "n-bPFVrz_ZTK"
      },
      "source": [
        "## instantiating the evaluator by which we will measure our model's performance\n",
        "reg_evaluator = RegressionEvaluator(predictionCol='prediction', labelCol='area', metricName = 'mae')\n",
        "\n",
        "## instantiating crossvalidator estimator\n",
        "cv = CrossValidator(estimator=pipeline, estimatorParamMaps=params, evaluator=reg_evaluator, parallelism=4)"
      ],
      "execution_count": 51,
      "outputs": []
    },
    {
      "cell_type": "code",
      "metadata": {
        "id": "6x9CIcpD_ZTK"
      },
      "source": [
        "## fitting crossvalidator\n",
        "cross_validated_model = cv.fit(fire_df)"
      ],
      "execution_count": 52,
      "outputs": []
    },
    {
      "cell_type": "markdown",
      "metadata": {
        "id": "06FEEUTz_ZTK"
      },
      "source": [
        "Now, let's see how well the model performed! Let's take a look at the average performance for each one of our 9 models. It looks like the optimal performance is an MAE around 23. Note that this is worse than our original model, but that's because our original model had substantial data leakage. We didn't do a train-test split!"
      ]
    },
    {
      "cell_type": "code",
      "metadata": {
        "scrolled": true,
        "colab": {
          "base_uri": "https://localhost:8080/"
        },
        "id": "QfhjO6Yd_ZTK",
        "outputId": "3f471d48-32b9-496c-b6cd-aa967825f7b2"
      },
      "source": [
        "cross_validated_model.avgMetrics"
      ],
      "execution_count": 53,
      "outputs": [
        {
          "output_type": "execute_result",
          "data": {
            "text/plain": [
              "[20.891600533412372,\n",
              " 20.75994883942403,\n",
              " 21.861477712677,\n",
              " 21.64631746330999,\n",
              " 21.564349073615972,\n",
              " 22.466731718916687,\n",
              " 21.744316294428288,\n",
              " 21.67472116777555,\n",
              " 22.549408851655876]"
            ]
          },
          "metadata": {
            "tags": []
          },
          "execution_count": 53
        }
      ]
    },
    {
      "cell_type": "markdown",
      "metadata": {
        "id": "aDmQlvPR_ZTL"
      },
      "source": [
        "Now, let's take a look at the optimal parameters of our best performing model. The `cross_validated_model` variable is now saved as the best performing model from the grid search just performed. Let's look to see how well the predictions performed. As you can see, this dataset has a large number of areas of \"0.0\" burned. Perhaps, it would be better to investigate this problem as a classification task."
      ]
    },
    {
      "cell_type": "code",
      "metadata": {
        "colab": {
          "base_uri": "https://localhost:8080/"
        },
        "id": "JJ58p8qp_ZTL",
        "outputId": "fa7fe30d-0312-4eb2-b720-15615fdaf8d0"
      },
      "source": [
        "predictions = cross_validated_model.transform(spark_df)\n",
        "predictions.select('prediction', 'area').show(300)"
      ],
      "execution_count": 54,
      "outputs": [
        {
          "output_type": "stream",
          "text": [
            "+------------------+-------+\n",
            "|        prediction|   area|\n",
            "+------------------+-------+\n",
            "|  6.56954261381305|    0.0|\n",
            "| 4.430196585016905|    0.0|\n",
            "| 6.444377626859058|    0.0|\n",
            "| 6.045323343391634|    0.0|\n",
            "| 5.217403681096957|    0.0|\n",
            "| 6.032471801413513|    0.0|\n",
            "|  5.31620314326507|    0.0|\n",
            "|11.411783753073564|    0.0|\n",
            "| 6.858131304826509|    0.0|\n",
            "|6.1471992043378805|    0.0|\n",
            "| 5.106947993953664|    0.0|\n",
            "| 5.442320330656506|    0.0|\n",
            "|  7.38614779626701|    0.0|\n",
            "| 9.445558383467862|    0.0|\n",
            "| 76.13020992621017|    0.0|\n",
            "|  6.81676768720463|    0.0|\n",
            "|  5.16438317060155|    0.0|\n",
            "| 6.759391385304534|    0.0|\n",
            "| 4.985024035892808|    0.0|\n",
            "| 5.310416108395063|    0.0|\n",
            "|  9.64843674664128|    0.0|\n",
            "| 4.948384360602412|    0.0|\n",
            "|11.165228858074691|    0.0|\n",
            "|10.360711943876673|    0.0|\n",
            "| 7.687008551771859|    0.0|\n",
            "| 5.146840594810403|    0.0|\n",
            "|  7.14571371002128|    0.0|\n",
            "|10.461391435721412|    0.0|\n",
            "|22.646848454664728|    0.0|\n",
            "| 8.100983938858342|    0.0|\n",
            "|27.552797228940722|    0.0|\n",
            "|  6.49202201506966|    0.0|\n",
            "| 12.50013309541308|    0.0|\n",
            "| 5.431023730910727|    0.0|\n",
            "| 5.224595414969872|    0.0|\n",
            "| 6.690619373363721|    0.0|\n",
            "| 7.911115440518038|    0.0|\n",
            "|6.4941168144905195|    0.0|\n",
            "| 5.042100745889193|    0.0|\n",
            "| 4.066089628005797|    0.0|\n",
            "|10.453604187013331|    0.0|\n",
            "| 4.568227149131388|    0.0|\n",
            "|4.4119349216601345|    0.0|\n",
            "|  5.02554819265556|    0.0|\n",
            "| 5.917833657772893|    0.0|\n",
            "|  99.1190259012062|    0.0|\n",
            "|  6.18889062255779|    0.0|\n",
            "|  4.98800930550557|    0.0|\n",
            "|  4.01312595423019|    0.0|\n",
            "| 6.469385823528282|    0.0|\n",
            "|  13.4453094985907|    0.0|\n",
            "| 5.123788102898922|    0.0|\n",
            "|  4.22373858583264|    0.0|\n",
            "|  4.22373858583264|    0.0|\n",
            "| 5.025152966319887|    0.0|\n",
            "|10.478052154913598|    0.0|\n",
            "|  5.27237678079939|    0.0|\n",
            "| 4.497460416332021|    0.0|\n",
            "|4.4477320108324445|    0.0|\n",
            "|11.523926207472181|    0.0|\n",
            "|5.2026886328187185|    0.0|\n",
            "| 5.336409344597662|    0.0|\n",
            "|6.4048144785419625|    0.0|\n",
            "| 8.152966300821793|    0.0|\n",
            "| 6.291415332734934|    0.0|\n",
            "| 8.479124968962044|    0.0|\n",
            "|13.154795779556242|    0.0|\n",
            "| 13.48346567870426|    0.0|\n",
            "|13.535058594499105|    0.0|\n",
            "| 5.216079959569661|    0.0|\n",
            "|6.5445421723809645|    0.0|\n",
            "| 7.109970055834818|    0.0|\n",
            "| 4.507571612349333|    0.0|\n",
            "|  5.19624440594558|    0.0|\n",
            "|20.933436571399834|    0.0|\n",
            "| 6.529445330371097|    0.0|\n",
            "| 6.080003553293876|    0.0|\n",
            "|  4.81106912586279|    0.0|\n",
            "|3.8827676019376405|    0.0|\n",
            "|12.633529148951466|    0.0|\n",
            "| 8.954029772800615|    0.0|\n",
            "| 3.751844565734458|    0.0|\n",
            "| 4.815748642973018|    0.0|\n",
            "| 3.493581753371132|    0.0|\n",
            "|  7.41019664947962|    0.0|\n",
            "|13.853979388767977|    0.0|\n",
            "|12.666225733121385|    0.0|\n",
            "|12.930347661210279|    0.0|\n",
            "|11.173254471731639|    0.0|\n",
            "| 5.490900596924113|    0.0|\n",
            "| 6.327543912942707|    0.0|\n",
            "| 5.752079735886013|    0.0|\n",
            "|12.400594941641161|    0.0|\n",
            "|14.706287322771697|    0.0|\n",
            "| 7.313890048349943|    0.0|\n",
            "| 5.154111059529294|    0.0|\n",
            "| 4.215288973834898|    0.0|\n",
            "| 4.366368229595168|    0.0|\n",
            "| 5.254101742805762|    0.0|\n",
            "| 6.341607061534588|    0.0|\n",
            "| 6.341607061534588|    0.0|\n",
            "|4.3149948907265605|    0.0|\n",
            "|  4.50706160425015|    0.0|\n",
            "|  15.4868745839934|    0.0|\n",
            "| 4.552583085200813|    0.0|\n",
            "| 5.349517315175566|    0.0|\n",
            "| 5.738127915253695|    0.0|\n",
            "|5.0141843982261785|    0.0|\n",
            "| 5.117835629425586|    0.0|\n",
            "| 5.535791724949377|    0.0|\n",
            "|  5.52248344126967|    0.0|\n",
            "| 5.460336670044511|    0.0|\n",
            "| 6.260276675514897|    0.0|\n",
            "| 4.903801874298541|    0.0|\n",
            "| 5.236310346904621|    0.0|\n",
            "| 5.448239017743969|    0.0|\n",
            "| 5.075562658525902|    0.0|\n",
            "| 5.313370775425056|    0.0|\n",
            "| 4.844978607401095|    0.0|\n",
            "| 5.814358304699462|    0.0|\n",
            "| 5.415690381674256|    0.0|\n",
            "|  5.38852099076233|    0.0|\n",
            "| 8.258253744263541|    0.0|\n",
            "| 9.042471104415986|    0.0|\n",
            "| 4.809507346025322|    0.0|\n",
            "| 6.587456852434257|    0.0|\n",
            "| 4.304205560765408|    0.0|\n",
            "| 8.541290140047044|    0.0|\n",
            "| 6.965238122828847|    0.0|\n",
            "| 7.942179131109328|    0.0|\n",
            "| 6.169164844742126|    0.0|\n",
            "| 4.044273856727546|    0.0|\n",
            "| 4.370585668810339|    0.0|\n",
            "| 4.036379299768288|    0.0|\n",
            "| 3.645156191429144|    0.0|\n",
            "| 6.610658850381201|    0.0|\n",
            "| 7.529232838884544|    0.0|\n",
            "| 6.781895282043657|    0.0|\n",
            "| 18.52775349052039|   0.36|\n",
            "|18.028443763707113|   0.43|\n",
            "| 9.490203881725156|   0.47|\n",
            "| 4.100742531975355|   0.55|\n",
            "| 7.914230448954109|   0.61|\n",
            "|24.596874761576156|   0.71|\n",
            "| 3.778870177189942|   0.77|\n",
            "| 87.07476527472448|    0.9|\n",
            "| 4.992061245995183|   0.95|\n",
            "|18.861929613929075|   0.96|\n",
            "| 4.743176392014626|   1.07|\n",
            "| 9.014038513197159|   1.12|\n",
            "| 4.668028179276108|   1.19|\n",
            "|  9.16849542043977|   1.36|\n",
            "|   8.2230226520305|   1.43|\n",
            "|5.0273607520344195|   1.46|\n",
            "| 21.09226542544327|   1.46|\n",
            "| 4.420577953341708|   1.56|\n",
            "|12.362285164993823|   1.61|\n",
            "| 4.681333492141586|   1.63|\n",
            "|3.9083331839841886|   1.64|\n",
            "|  7.14571371002128|   1.69|\n",
            "| 5.537350781208989|   1.75|\n",
            "| 6.226821473009746|    1.9|\n",
            "| 7.809037004578683|   1.94|\n",
            "|14.244481622225628|   1.95|\n",
            "| 5.411186821029641|   2.01|\n",
            "| 5.662394396092967|   2.14|\n",
            "| 3.801749678864452|   2.29|\n",
            "| 5.068098421178799|   2.51|\n",
            "|10.114869524280406|   2.53|\n",
            "|26.076334743811604|   2.55|\n",
            "| 7.122726643509688|   2.57|\n",
            "| 5.675695645645427|   2.69|\n",
            "| 7.083064687534189|   2.74|\n",
            "| 8.254394046034731|   3.07|\n",
            "| 3.781017763523315|    3.5|\n",
            "|   4.4337849343034|   4.53|\n",
            "| 6.638024818378462|   4.61|\n",
            "|  4.85072272416448|   4.69|\n",
            "| 7.221642087664755|   4.88|\n",
            "|10.755454114273041|   5.23|\n",
            "| 7.921022065735279|   5.33|\n",
            "|  7.82707649136375|   5.44|\n",
            "| 4.526269413776503|   6.38|\n",
            "| 9.278613287684156|   6.83|\n",
            "| 7.077529373751853|   6.96|\n",
            "|10.495177265956773|   7.04|\n",
            "|15.544676681590282|   7.19|\n",
            "|17.938245249087625|    7.3|\n",
            "| 4.974564011088357|    7.4|\n",
            "|6.1215281385554166|   8.24|\n",
            "| 7.748442456922792|   8.31|\n",
            "|12.000287438748057|   8.68|\n",
            "| 5.259675935241721|   8.71|\n",
            "|18.374807332445776|   9.41|\n",
            "| 5.259675935241721|  10.01|\n",
            "|4.7289266812179855|  10.02|\n",
            "| 6.638024818378462|  10.93|\n",
            "|16.020493741014942|  11.06|\n",
            "| 8.057314876924037|  11.24|\n",
            "| 9.811412508446313|  11.32|\n",
            "|18.010444510512972|  11.53|\n",
            "|  4.97466233577398|   12.1|\n",
            "| 6.814985444841728|  13.05|\n",
            "| 8.914520409922616|   13.7|\n",
            "|  5.23837505745453|  13.99|\n",
            "| 6.896377535097633|  14.57|\n",
            "|6.3271187535540205|  15.45|\n",
            "|  9.56967161588526|   17.2|\n",
            "|7.7503087351647615|  19.23|\n",
            "|10.632359874320139|  23.41|\n",
            "| 8.282666026495816|  24.23|\n",
            "|10.741837155049764|   26.0|\n",
            "| 5.276961308138593|  26.13|\n",
            "| 8.277880284831843|  27.35|\n",
            "| 5.519334904423284|  28.66|\n",
            "| 5.519334904423284|  28.66|\n",
            "|11.790048159891942|  29.48|\n",
            "| 5.843760433608034|  30.32|\n",
            "|19.399099209613983|  31.72|\n",
            "| 6.905502610680453|  31.86|\n",
            "| 6.645484770252654|  32.07|\n",
            "| 5.869310299028541|  35.88|\n",
            "| 7.227170732128218|  36.85|\n",
            "| 22.18853257112856|  37.02|\n",
            "|   7.7284722565333|  37.71|\n",
            "| 8.069645559913223|  48.55|\n",
            "|13.229816727202492|  49.37|\n",
            "|18.509867575609913|   58.3|\n",
            "|52.170268675176295|   64.1|\n",
            "|19.176361679858406|   71.3|\n",
            "| 28.88605582364608|  88.49|\n",
            "|38.193391724498014|  95.18|\n",
            "|12.239964382458336| 103.39|\n",
            "| 46.74234389126728| 105.66|\n",
            "|  89.1222177293129| 154.88|\n",
            "| 39.08576711712958| 196.48|\n",
            "| 66.77143303341381| 200.94|\n",
            "| 74.99641599097257| 212.88|\n",
            "|  523.777105329896|1090.84|\n",
            "| 5.692652943159812|    0.0|\n",
            "| 5.664454829804913|    0.0|\n",
            "| 6.629453419008841|    0.0|\n",
            "| 5.539378313811942|  10.13|\n",
            "| 8.552939008307481|    0.0|\n",
            "| 7.117514061922878|   2.87|\n",
            "|11.460235275980033|   0.76|\n",
            "| 12.45199450809357|   0.09|\n",
            "| 3.950835030878922|   0.75|\n",
            "| 7.914581544023462|    0.0|\n",
            "| 5.112445222208783|   2.47|\n",
            "| 41.14198358005578|   0.68|\n",
            "| 5.362988161603747|   0.24|\n",
            "|4.7002518118016265|   0.21|\n",
            "| 5.473834049500137|   1.52|\n",
            "| 9.766642619529183|  10.34|\n",
            "| 7.099655636437558|    0.0|\n",
            "| 8.135911015472058|   8.02|\n",
            "|  4.19053107343564|   0.68|\n",
            "|  5.32455739632476|    0.0|\n",
            "| 6.693597730100526|   1.38|\n",
            "| 5.114762743910228|   8.85|\n",
            "|4.9336436868969225|    3.3|\n",
            "|  5.12665149692013|   4.25|\n",
            "| 8.097452323732451|   1.56|\n",
            "|  5.22034516484918|   6.54|\n",
            "| 5.991629371216942|   0.79|\n",
            "| 6.172622159635453|   0.17|\n",
            "| 8.175309182018921|    0.0|\n",
            "| 4.942475147855839|    0.0|\n",
            "|  5.53823063044516|    4.4|\n",
            "| 4.817061504938339|   0.52|\n",
            "|6.8994627386103335|   9.27|\n",
            "| 5.026915356910846|   3.09|\n",
            "| 7.928876371696662|   8.98|\n",
            "|14.100780882291485|  11.19|\n",
            "|  6.88236504615619|   5.38|\n",
            "|11.415901249237102|  17.85|\n",
            "|10.541057774780883|  10.73|\n",
            "|11.415901249237102|  22.03|\n",
            "|11.415901249237102|   9.77|\n",
            "| 6.794594090621659|   9.27|\n",
            "|11.328307956875507|  24.77|\n",
            "|5.8584596036436105|    0.0|\n",
            "| 4.319309322047113|    1.1|\n",
            "| 8.148696815677395|  24.24|\n",
            "| 7.853860343111766|    0.0|\n",
            "|13.871416164341786|    0.0|\n",
            "| 5.817558870193148|    0.0|\n",
            "| 4.399764855085555|    0.0|\n",
            "| 4.515923926079181|    0.0|\n",
            "|11.299255505017586|    0.0|\n",
            "| 10.91671061383109|    8.0|\n",
            "| 3.675883631608128|   2.64|\n",
            "| 66.70999655498802|  86.45|\n",
            "|11.777573344533666|   6.57|\n",
            "|  6.51875073458781|    0.0|\n",
            "| 4.861226132716184|    0.9|\n",
            "| 6.093573709529282|    0.0|\n",
            "| 9.725997109519396|    0.0|\n",
            "|  4.95369156248473|    0.0|\n",
            "+------------------+-------+\n",
            "only showing top 300 rows\n",
            "\n"
          ],
          "name": "stdout"
        }
      ]
    },
    {
      "cell_type": "markdown",
      "metadata": {
        "id": "D6YjJq-d_ZTL"
      },
      "source": [
        "Now let's go ahead and take a look at the feature importances of our random forest model. In order to do this, we need to unroll our pipeline to access the random forest model. Let's start by first checking out the `.bestModel` attribute of our `cross_validated_model`. "
      ]
    },
    {
      "cell_type": "code",
      "metadata": {
        "colab": {
          "base_uri": "https://localhost:8080/"
        },
        "id": "QR6-lfOT_ZTL",
        "outputId": "2ee1ab2f-6307-4be6-8e59-b939533669d4"
      },
      "source": [
        "type(cross_validated_model.bestModel)"
      ],
      "execution_count": 55,
      "outputs": [
        {
          "output_type": "execute_result",
          "data": {
            "text/plain": [
              "pyspark.ml.pipeline.PipelineModel"
            ]
          },
          "metadata": {
            "tags": []
          },
          "execution_count": 55
        }
      ]
    },
    {
      "cell_type": "markdown",
      "metadata": {
        "id": "4mDvnOL0_ZTL"
      },
      "source": [
        "`ml` is treating the entire pipeline as the best performing model, so we need to go deeper into the pipeline to access the random forest model within it. Previously, we put the random forest model as the final \"stage\" in the stages variable list. Let's look at the `.stages` attribute of the `.bestModel`."
      ]
    },
    {
      "cell_type": "code",
      "metadata": {
        "colab": {
          "base_uri": "https://localhost:8080/"
        },
        "id": "uBdlWshI_ZTM",
        "outputId": "350f641d-4cd0-4ec6-f03d-98f4986349d0"
      },
      "source": [
        "cross_validated_model.bestModel.stages"
      ],
      "execution_count": 56,
      "outputs": [
        {
          "output_type": "execute_result",
          "data": {
            "text/plain": [
              "[StringIndexer_914be50affa0,\n",
              " OneHotEncoderEstimator_889122a3ac8f,\n",
              " VectorAssembler_c5ea5a064b32,\n",
              " RandomForestRegressionModel (uid=RandomForestRegressor_2f889a3b24eb) with 50 trees]"
            ]
          },
          "metadata": {
            "tags": []
          },
          "execution_count": 56
        }
      ]
    },
    {
      "cell_type": "markdown",
      "metadata": {
        "id": "FJLMMUUi_ZTM"
      },
      "source": [
        "Perfect! There's the RandomForestRegressionModel, represented by the last item in the stages list. Now, we should be able to access all the attributes of the random forest regressor."
      ]
    },
    {
      "cell_type": "code",
      "metadata": {
        "id": "AIlxyJaQ_ZTM"
      },
      "source": [
        "optimal_rf_model = cross_validated_model.bestModel.stages[3]"
      ],
      "execution_count": 57,
      "outputs": []
    },
    {
      "cell_type": "code",
      "metadata": {
        "colab": {
          "base_uri": "https://localhost:8080/"
        },
        "id": "dlllySn6_ZTM",
        "outputId": "36285aa0-8daf-4861-dbc3-605e8ba0fa04"
      },
      "source": [
        "optimal_rf_model.featureImportances"
      ],
      "execution_count": 58,
      "outputs": [
        {
          "output_type": "execute_result",
          "data": {
            "text/plain": [
              "SparseVector(22, {0: 0.0794, 1: 0.1023, 2: 0.0597, 3: 0.1369, 4: 0.0762, 5: 0.1234, 6: 0.1525, 7: 0.0752, 8: 0.1516, 9: 0.0, 10: 0.0112, 11: 0.0192, 12: 0.0001, 13: 0.008, 14: 0.0002, 15: 0.0004, 16: 0.0007, 17: 0.0022, 18: 0.0003, 20: 0.0005})"
            ]
          },
          "metadata": {
            "tags": []
          },
          "execution_count": 58
        }
      ]
    },
    {
      "cell_type": "code",
      "metadata": {
        "colab": {
          "base_uri": "https://localhost:8080/"
        },
        "id": "h9ZVT6QG_ZTM",
        "outputId": "1ad7c592-d2f3-467d-f09c-a6d0616cc6de"
      },
      "source": [
        "optimal_rf_model.getNumTrees"
      ],
      "execution_count": 59,
      "outputs": [
        {
          "output_type": "execute_result",
          "data": {
            "text/plain": [
              "50"
            ]
          },
          "metadata": {
            "tags": []
          },
          "execution_count": 59
        }
      ]
    },
    {
      "cell_type": "markdown",
      "metadata": {
        "id": "5xPC8Agu_ZTM"
      },
      "source": [
        "## Summary\n",
        "\n",
        "In this lesson, you learned about PySpark's DataFrames, machine learning models, and pipelines. With the use of a pipeline, you can train a huge number of models simultaneously, saving you a substantial amount of time and effort. Up next, you will have a chance to build a PySpark machine learning pipeline of your own with a classification problem!"
      ]
    }
  ]
}